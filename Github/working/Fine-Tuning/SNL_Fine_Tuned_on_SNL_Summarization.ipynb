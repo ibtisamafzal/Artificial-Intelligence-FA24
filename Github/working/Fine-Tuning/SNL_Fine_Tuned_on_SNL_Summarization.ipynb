{
  "cells": [
    {
      "cell_type": "code",
      "execution_count": 4,
      "metadata": {
        "colab": {
          "base_uri": "https://localhost:8080/"
        },
        "id": "-J-Gxv1HZ5TF",
        "outputId": "f72147c3-e1f4-45ee-f4da-de74277d574d"
      },
      "outputs": [
        {
          "output_type": "stream",
          "name": "stdout",
          "text": [
            "Requirement already satisfied: transformers in /usr/local/lib/python3.10/dist-packages (4.44.2)\n",
            "Requirement already satisfied: datasets in /usr/local/lib/python3.10/dist-packages (3.0.1)\n",
            "Requirement already satisfied: evaluate in /usr/local/lib/python3.10/dist-packages (0.4.3)\n",
            "Requirement already satisfied: rouge_score in /usr/local/lib/python3.10/dist-packages (0.1.2)\n",
            "Requirement already satisfied: accelerate in /usr/local/lib/python3.10/dist-packages (0.34.2)\n",
            "Requirement already satisfied: filelock in /usr/local/lib/python3.10/dist-packages (from transformers) (3.16.1)\n",
            "Requirement already satisfied: huggingface-hub<1.0,>=0.23.2 in /usr/local/lib/python3.10/dist-packages (from transformers) (0.24.7)\n",
            "Requirement already satisfied: numpy>=1.17 in /usr/local/lib/python3.10/dist-packages (from transformers) (1.26.4)\n",
            "Requirement already satisfied: packaging>=20.0 in /usr/local/lib/python3.10/dist-packages (from transformers) (24.1)\n",
            "Requirement already satisfied: pyyaml>=5.1 in /usr/local/lib/python3.10/dist-packages (from transformers) (6.0.2)\n",
            "Requirement already satisfied: regex!=2019.12.17 in /usr/local/lib/python3.10/dist-packages (from transformers) (2024.9.11)\n",
            "Requirement already satisfied: requests in /usr/local/lib/python3.10/dist-packages (from transformers) (2.32.3)\n",
            "Requirement already satisfied: safetensors>=0.4.1 in /usr/local/lib/python3.10/dist-packages (from transformers) (0.4.5)\n",
            "Requirement already satisfied: tokenizers<0.20,>=0.19 in /usr/local/lib/python3.10/dist-packages (from transformers) (0.19.1)\n",
            "Requirement already satisfied: tqdm>=4.27 in /usr/local/lib/python3.10/dist-packages (from transformers) (4.66.5)\n",
            "Requirement already satisfied: pyarrow>=15.0.0 in /usr/local/lib/python3.10/dist-packages (from datasets) (17.0.0)\n",
            "Requirement already satisfied: dill<0.3.9,>=0.3.0 in /usr/local/lib/python3.10/dist-packages (from datasets) (0.3.8)\n",
            "Requirement already satisfied: pandas in /usr/local/lib/python3.10/dist-packages (from datasets) (2.1.4)\n",
            "Requirement already satisfied: xxhash in /usr/local/lib/python3.10/dist-packages (from datasets) (3.5.0)\n",
            "Requirement already satisfied: multiprocess in /usr/local/lib/python3.10/dist-packages (from datasets) (0.70.16)\n",
            "Requirement already satisfied: fsspec<=2024.6.1,>=2023.1.0 in /usr/local/lib/python3.10/dist-packages (from fsspec[http]<=2024.6.1,>=2023.1.0->datasets) (2024.6.1)\n",
            "Requirement already satisfied: aiohttp in /usr/local/lib/python3.10/dist-packages (from datasets) (3.10.5)\n",
            "Requirement already satisfied: absl-py in /usr/local/lib/python3.10/dist-packages (from rouge_score) (1.4.0)\n",
            "Requirement already satisfied: nltk in /usr/local/lib/python3.10/dist-packages (from rouge_score) (3.8.1)\n",
            "Requirement already satisfied: six>=1.14.0 in /usr/local/lib/python3.10/dist-packages (from rouge_score) (1.16.0)\n",
            "Requirement already satisfied: psutil in /usr/local/lib/python3.10/dist-packages (from accelerate) (5.9.5)\n",
            "Requirement already satisfied: torch>=1.10.0 in /usr/local/lib/python3.10/dist-packages (from accelerate) (2.4.1+cu121)\n",
            "Requirement already satisfied: aiohappyeyeballs>=2.3.0 in /usr/local/lib/python3.10/dist-packages (from aiohttp->datasets) (2.4.0)\n",
            "Requirement already satisfied: aiosignal>=1.1.2 in /usr/local/lib/python3.10/dist-packages (from aiohttp->datasets) (1.3.1)\n",
            "Requirement already satisfied: attrs>=17.3.0 in /usr/local/lib/python3.10/dist-packages (from aiohttp->datasets) (24.2.0)\n",
            "Requirement already satisfied: frozenlist>=1.1.1 in /usr/local/lib/python3.10/dist-packages (from aiohttp->datasets) (1.4.1)\n",
            "Requirement already satisfied: multidict<7.0,>=4.5 in /usr/local/lib/python3.10/dist-packages (from aiohttp->datasets) (6.1.0)\n",
            "Requirement already satisfied: yarl<2.0,>=1.0 in /usr/local/lib/python3.10/dist-packages (from aiohttp->datasets) (1.11.1)\n",
            "Requirement already satisfied: async-timeout<5.0,>=4.0 in /usr/local/lib/python3.10/dist-packages (from aiohttp->datasets) (4.0.3)\n",
            "Requirement already satisfied: typing-extensions>=3.7.4.3 in /usr/local/lib/python3.10/dist-packages (from huggingface-hub<1.0,>=0.23.2->transformers) (4.12.2)\n",
            "Requirement already satisfied: charset-normalizer<4,>=2 in /usr/local/lib/python3.10/dist-packages (from requests->transformers) (3.3.2)\n",
            "Requirement already satisfied: idna<4,>=2.5 in /usr/local/lib/python3.10/dist-packages (from requests->transformers) (3.10)\n",
            "Requirement already satisfied: urllib3<3,>=1.21.1 in /usr/local/lib/python3.10/dist-packages (from requests->transformers) (2.2.3)\n",
            "Requirement already satisfied: certifi>=2017.4.17 in /usr/local/lib/python3.10/dist-packages (from requests->transformers) (2024.8.30)\n",
            "Requirement already satisfied: sympy in /usr/local/lib/python3.10/dist-packages (from torch>=1.10.0->accelerate) (1.13.3)\n",
            "Requirement already satisfied: networkx in /usr/local/lib/python3.10/dist-packages (from torch>=1.10.0->accelerate) (3.3)\n",
            "Requirement already satisfied: jinja2 in /usr/local/lib/python3.10/dist-packages (from torch>=1.10.0->accelerate) (3.1.4)\n",
            "Requirement already satisfied: click in /usr/local/lib/python3.10/dist-packages (from nltk->rouge_score) (8.1.7)\n",
            "Requirement already satisfied: joblib in /usr/local/lib/python3.10/dist-packages (from nltk->rouge_score) (1.4.2)\n",
            "Requirement already satisfied: python-dateutil>=2.8.2 in /usr/local/lib/python3.10/dist-packages (from pandas->datasets) (2.8.2)\n",
            "Requirement already satisfied: pytz>=2020.1 in /usr/local/lib/python3.10/dist-packages (from pandas->datasets) (2024.2)\n",
            "Requirement already satisfied: tzdata>=2022.1 in /usr/local/lib/python3.10/dist-packages (from pandas->datasets) (2024.1)\n",
            "Requirement already satisfied: MarkupSafe>=2.0 in /usr/local/lib/python3.10/dist-packages (from jinja2->torch>=1.10.0->accelerate) (2.1.5)\n",
            "Requirement already satisfied: mpmath<1.4,>=1.1.0 in /usr/local/lib/python3.10/dist-packages (from sympy->torch>=1.10.0->accelerate) (1.3.0)\n"
          ]
        }
      ],
      "source": [
        "!pip install transformers datasets evaluate rouge_score accelerate"
      ]
    },
    {
      "cell_type": "code",
      "execution_count": 5,
      "metadata": {
        "colab": {
          "base_uri": "https://localhost:8080/",
          "height": 35
        },
        "id": "J-DKvBsbhb9m",
        "outputId": "2e133976-a02c-429b-b145-26fbaf398b26"
      },
      "outputs": [
        {
          "output_type": "execute_result",
          "data": {
            "text/plain": [
              "'4.44.2'"
            ],
            "application/vnd.google.colaboratory.intrinsic+json": {
              "type": "string"
            }
          },
          "metadata": {},
          "execution_count": 5
        }
      ],
      "source": [
        "import transformers\n",
        "transformers.__version__"
      ]
    },
    {
      "cell_type": "code",
      "execution_count": 6,
      "metadata": {
        "colab": {
          "base_uri": "https://localhost:8080/",
          "height": 145,
          "referenced_widgets": [
            "9ac13b9745ba499bb51192b4aadbd28a",
            "3beeae622e3343189a62944d513a18a0",
            "7d7eabe5dfbe4a728073c04edfdf3195",
            "cb1abaf766c94a4baa77a4b4e9dfc5b7",
            "531aa72e40b74263ae106009c8e390a5",
            "6525c35116d8457c97230b68469ca621",
            "e1efc22ee6c44411916472e49b0cd3f5",
            "dfb6a54c41b64d5980440e7b75601299",
            "1b306191c8a84a828ffd3c3dfef858b7",
            "41c7c51972d944efbc04abf3cde601a5",
            "995dd95b9f554411ad8fd5ee7d02a866",
            "f4faf061b79d4f579dcfb5904053d49a",
            "d34fd114be6f4c7ebc2e50c3b70674f4",
            "bfa47e353f744a7088929b0975f508c3",
            "988d69db637c48319d1f5746814841ff",
            "871a50a1fb734316817a3067e74922ed",
            "143b8349c3314661bb97a166a06450d2",
            "141aa66c4e1341dca7a4ecd5279f70c9",
            "15d85c0ab3c74af7aef1c01d8d32b7cc",
            "071ae0c988a3487fa3deeaf8d90a6c1a",
            "eeb758eee79e45fe98e1a61afae54415",
            "a933b334861742b7872fff80e43c94c2",
            "d6ee95bb39534e859a4fa316d1767806",
            "8ede7993d03042d8aacfbe4ecbecf6f1",
            "959081dc783b4307a877ecd905b49602",
            "162e585b5794407192bac60b8c6c1f99",
            "3c0ec12b7a444afb91a9fb56e728de27",
            "3756de16cfa14f4c8ec2ba2941039965",
            "6e8330ae04084671acfddf7e7ba90306",
            "a45ff624ceb141b7afcde224deb843d2",
            "3beddba0fc0f4a6ab6f1e62b9821378a",
            "47b3062cd7a44324b6b58d404eee931f"
          ]
        },
        "id": "1VucS2RXhpmP",
        "outputId": "a099c924-8da6-48bb-8d04-7ab798f4afc7"
      },
      "outputs": [
        {
          "output_type": "display_data",
          "data": {
            "text/plain": [
              "VBox(children=(HTML(value='<center> <img\\nsrc=https://huggingface.co/front/assets/huggingface_logo-noborder.sv…"
            ],
            "application/vnd.jupyter.widget-view+json": {
              "version_major": 2,
              "version_minor": 0,
              "model_id": "9ac13b9745ba499bb51192b4aadbd28a"
            }
          },
          "metadata": {}
        }
      ],
      "source": [
        "from huggingface_hub import notebook_login\n",
        "notebook_login()"
      ]
    },
    {
      "cell_type": "code",
      "execution_count": 7,
      "metadata": {
        "colab": {
          "base_uri": "https://localhost:8080/"
        },
        "id": "sSlAmXCOh4Bn",
        "outputId": "e4e8d9fb-3edd-4018-f01b-52fc9802673b"
      },
      "outputs": [
        {
          "output_type": "stream",
          "name": "stderr",
          "text": [
            "/usr/local/lib/python3.10/dist-packages/huggingface_hub/utils/_token.py:89: UserWarning: \n",
            "The secret `HF_TOKEN` does not exist in your Colab secrets.\n",
            "To authenticate with the Hugging Face Hub, create a token in your settings tab (https://huggingface.co/settings/tokens), set it as secret in your Google Colab and restart your session.\n",
            "You will be able to reuse this secret in all of your notebooks.\n",
            "Please note that authentication is recommended but still optional to access public models or datasets.\n",
            "  warnings.warn(\n"
          ]
        },
        {
          "output_type": "stream",
          "name": "stdout",
          "text": [
            "DatasetInfo(id='amirveyseh/acronym_identification', author='amirveyseh', sha='15ef643450d589d5883e289ffadeb03563e80a9e', created_at=datetime.datetime(2022, 3, 2, 23, 29, 22, tzinfo=datetime.timezone.utc), last_modified=datetime.datetime(2024, 1, 9, 11, 39, 57, tzinfo=datetime.timezone.utc), private=False, gated=False, disabled=False, downloads=910, downloads_all_time=None, likes=19, paperswithcode_id='acronym-identification', tags=['task_categories:token-classification', 'annotations_creators:expert-generated', 'language_creators:found', 'multilinguality:monolingual', 'source_datasets:original', 'language:en', 'license:mit', 'size_categories:10K<n<100K', 'format:parquet', 'modality:text', 'library:datasets', 'library:pandas', 'library:mlcroissant', 'library:polars', 'arxiv:2010.14678', 'region:us', 'acronym-identification'], card_data=None, siblings=None)\n",
            "DatasetInfo(id='ade-benchmark-corpus/ade_corpus_v2', author='ade-benchmark-corpus', sha='4ba01c71687dd7c996597042449448ea312126cf', created_at=datetime.datetime(2022, 3, 2, 23, 29, 22, tzinfo=datetime.timezone.utc), last_modified=datetime.datetime(2024, 1, 9, 11, 42, 58, tzinfo=datetime.timezone.utc), private=False, gated=False, disabled=False, downloads=381, downloads_all_time=None, likes=27, paperswithcode_id=None, tags=['task_categories:text-classification', 'task_categories:token-classification', 'task_ids:coreference-resolution', 'task_ids:fact-checking', 'annotations_creators:expert-generated', 'language_creators:found', 'multilinguality:monolingual', 'source_datasets:original', 'language:en', 'license:unknown', 'size_categories:10K<n<100K', 'format:parquet', 'modality:text', 'library:datasets', 'library:pandas', 'library:mlcroissant', 'library:polars', 'region:us'], card_data=None, siblings=None)\n",
            "DatasetInfo(id='UCLNLP/adversarial_qa', author='UCLNLP', sha='c2d5f738db1ad21a4126a144dfbb00cb51e0a4a9', created_at=datetime.datetime(2022, 3, 2, 23, 29, 22, tzinfo=datetime.timezone.utc), last_modified=datetime.datetime(2023, 12, 21, 14, 20, tzinfo=datetime.timezone.utc), private=False, gated=False, disabled=False, downloads=572, downloads_all_time=None, likes=33, paperswithcode_id='adversarialqa', tags=['task_categories:question-answering', 'task_ids:extractive-qa', 'task_ids:open-domain-qa', 'annotations_creators:crowdsourced', 'language_creators:found', 'multilinguality:monolingual', 'source_datasets:original', 'language:en', 'license:cc-by-sa-4.0', 'size_categories:10K<n<100K', 'format:parquet', 'modality:text', 'library:datasets', 'library:pandas', 'library:mlcroissant', 'library:polars', 'arxiv:2002.00293', 'arxiv:1606.05250', 'region:us'], card_data=None, siblings=None)\n",
            "DatasetInfo(id='Yale-LILY/aeslc', author='Yale-LILY', sha='2305f2e63b68056f9b9037a3805c8c196e0d5581', created_at=datetime.datetime(2022, 3, 2, 23, 29, 22, tzinfo=datetime.timezone.utc), last_modified=datetime.datetime(2024, 1, 9, 11, 49, 13, tzinfo=datetime.timezone.utc), private=False, gated=False, disabled=False, downloads=128, downloads_all_time=None, likes=13, paperswithcode_id='aeslc', tags=['task_categories:summarization', 'annotations_creators:crowdsourced', 'language_creators:found', 'multilinguality:monolingual', 'source_datasets:original', 'language:en', 'license:unknown', 'size_categories:10K<n<100K', 'format:parquet', 'modality:text', 'library:datasets', 'library:pandas', 'library:mlcroissant', 'library:polars', 'arxiv:1906.03497', 'region:us', 'aspect-based-summarization', 'conversations-summarization', 'multi-document-summarization', 'email-headline-generation'], card_data=None, siblings=None)\n",
            "DatasetInfo(id='nwu-ctext/afrikaans_ner_corpus', author='nwu-ctext', sha='445834a997dce8b40e1d108638064381de80c497', created_at=datetime.datetime(2022, 3, 2, 23, 29, 22, tzinfo=datetime.timezone.utc), last_modified=datetime.datetime(2024, 1, 9, 11, 51, 47, tzinfo=datetime.timezone.utc), private=False, gated=False, disabled=False, downloads=64, downloads_all_time=None, likes=6, paperswithcode_id=None, tags=['task_categories:token-classification', 'task_ids:named-entity-recognition', 'annotations_creators:expert-generated', 'language_creators:expert-generated', 'multilinguality:monolingual', 'source_datasets:original', 'language:af', 'license:other', 'size_categories:1K<n<10K', 'format:parquet', 'modality:text', 'library:datasets', 'library:pandas', 'library:mlcroissant', 'library:polars', 'region:us'], card_data=None, siblings=None)\n",
            "DatasetInfo(id='fancyzhx/ag_news', author='fancyzhx', sha='eb185aade064a813bc0b7f42de02595523103ca4', created_at=datetime.datetime(2022, 3, 2, 23, 29, 22, tzinfo=datetime.timezone.utc), last_modified=datetime.datetime(2024, 3, 7, 12, 2, 37, tzinfo=datetime.timezone.utc), private=False, gated=False, disabled=False, downloads=7696, downloads_all_time=None, likes=130, paperswithcode_id='ag-news', tags=['task_categories:text-classification', 'task_ids:topic-classification', 'annotations_creators:found', 'language_creators:found', 'multilinguality:monolingual', 'source_datasets:original', 'language:en', 'license:unknown', 'size_categories:100K<n<1M', 'format:parquet', 'modality:text', 'library:datasets', 'library:pandas', 'library:mlcroissant', 'library:polars', 'region:us'], card_data=None, siblings=None)\n",
            "DatasetInfo(id='allenai/ai2_arc', author='allenai', sha='210d026faf9955653af8916fad021475a3f00453', created_at=datetime.datetime(2022, 3, 2, 23, 29, 22, tzinfo=datetime.timezone.utc), last_modified=datetime.datetime(2023, 12, 21, 15, 9, 48, tzinfo=datetime.timezone.utc), private=False, gated=False, disabled=False, downloads=581219, downloads_all_time=None, likes=131, paperswithcode_id=None, tags=['task_categories:question-answering', 'task_ids:open-domain-qa', 'task_ids:multiple-choice-qa', 'annotations_creators:found', 'language_creators:found', 'multilinguality:monolingual', 'source_datasets:original', 'language:en', 'license:cc-by-sa-4.0', 'size_categories:1K<n<10K', 'format:parquet', 'modality:text', 'library:datasets', 'library:pandas', 'library:mlcroissant', 'library:polars', 'arxiv:1803.05457', 'region:us'], card_data=None, siblings=None)\n",
            "DatasetInfo(id='google/air_dialogue', author='google', sha='dbdbe7bcef8d344bc3c68a05600f3d95917d6898', created_at=datetime.datetime(2022, 3, 2, 23, 29, 22, tzinfo=datetime.timezone.utc), last_modified=datetime.datetime(2024, 3, 7, 15, 22, 15, tzinfo=datetime.timezone.utc), private=False, gated=False, disabled=False, downloads=76, downloads_all_time=None, likes=16, paperswithcode_id=None, tags=['task_categories:text-generation', 'task_categories:fill-mask', 'task_ids:conversational', 'task_ids:dialogue-generation', 'task_ids:dialogue-modeling', 'task_ids:language-modeling', 'task_ids:masked-language-modeling', 'annotations_creators:crowdsourced', 'language_creators:machine-generated', 'multilinguality:monolingual', 'source_datasets:original', 'language:en', 'license:cc-by-nc-4.0', 'size_categories:100K<n<1M', 'format:parquet', 'modality:text', 'library:datasets', 'library:dask', 'library:mlcroissant', 'library:polars', 'region:us'], card_data=None, siblings=None)\n",
            "DatasetInfo(id='komari6/ajgt_twitter_ar', author='komari6', sha='af3f2fa5462ac461b696cb300d66e07ad366057f', created_at=datetime.datetime(2022, 3, 2, 23, 29, 22, tzinfo=datetime.timezone.utc), last_modified=datetime.datetime(2024, 1, 9, 11, 58, 1, tzinfo=datetime.timezone.utc), private=False, gated=False, disabled=False, downloads=138, downloads_all_time=None, likes=4, paperswithcode_id=None, tags=['task_categories:text-classification', 'task_ids:sentiment-classification', 'annotations_creators:found', 'language_creators:found', 'multilinguality:monolingual', 'source_datasets:original', 'language:ar', 'license:unknown', 'size_categories:1K<n<10K', 'format:parquet', 'modality:text', 'library:datasets', 'library:pandas', 'library:mlcroissant', 'library:polars', 'region:us'], card_data=None, siblings=None)\n",
            "DatasetInfo(id='legacy-datasets/allegro_reviews', author='legacy-datasets', sha='71593d1379934286885c53d147bc863ffe830745', created_at=datetime.datetime(2022, 3, 2, 23, 29, 22, tzinfo=datetime.timezone.utc), last_modified=datetime.datetime(2024, 1, 9, 11, 59, 39, tzinfo=datetime.timezone.utc), private=False, gated=False, disabled=False, downloads=119, downloads_all_time=None, likes=4, paperswithcode_id='allegro-reviews', tags=['task_categories:text-classification', 'task_ids:sentiment-scoring', 'task_ids:text-scoring', 'annotations_creators:found', 'language_creators:found', 'multilinguality:monolingual', 'source_datasets:original', 'language:pl', 'license:cc-by-sa-4.0', 'size_categories:10K<n<100K', 'format:parquet', 'modality:text', 'library:datasets', 'library:pandas', 'library:mlcroissant', 'library:polars', 'region:us'], card_data=None, siblings=None)\n",
            "DatasetInfo(id='tblard/allocine', author='tblard', sha='a4654f4896408912913a62ace89614879a549287', created_at=datetime.datetime(2022, 3, 2, 23, 29, 22, tzinfo=datetime.timezone.utc), last_modified=datetime.datetime(2024, 1, 9, 12, 2, 24, tzinfo=datetime.timezone.utc), private=False, gated=False, disabled=False, downloads=73, downloads_all_time=None, likes=12, paperswithcode_id='allocine', tags=['task_categories:text-classification', 'task_ids:sentiment-classification', 'annotations_creators:no-annotation', 'language_creators:found', 'multilinguality:monolingual', 'source_datasets:original', 'language:fr', 'license:mit', 'size_categories:100K<n<1M', 'format:parquet', 'modality:text', 'library:datasets', 'library:pandas', 'library:mlcroissant', 'library:polars', 'region:us'], card_data=None, siblings=None)\n",
            "DatasetInfo(id='mutiyama/alt', author='mutiyama', sha='afbd92e198bbcf17f660e03076fd2938f5a4bbb2', created_at=datetime.datetime(2022, 3, 2, 23, 29, 22, tzinfo=datetime.timezone.utc), last_modified=datetime.datetime(2024, 1, 9, 12, 7, 24, tzinfo=datetime.timezone.utc), private=False, gated=False, disabled=False, downloads=156, downloads_all_time=None, likes=16, paperswithcode_id='alt', tags=['task_categories:translation', 'task_categories:token-classification', 'task_ids:parsing', 'annotations_creators:expert-generated', 'language_creators:crowdsourced', 'multilinguality:multilingual', 'multilinguality:translation', 'source_datasets:original', 'language:bn', 'language:en', 'language:fil', 'language:hi', 'language:id', 'language:ja', 'language:km', 'language:lo', 'language:ms', 'language:my', 'language:th', 'language:vi', 'language:zh', 'license:cc-by-4.0', 'size_categories:100K<n<1M', 'format:parquet', 'modality:text', 'library:datasets', 'library:pandas', 'library:mlcroissant', 'library:polars', 'region:us'], card_data=None, siblings=None)\n"
          ]
        }
      ],
      "source": [
        "from huggingface_hub import list_datasets\n",
        "\n",
        "datasets_list = list_datasets()\n",
        "\n",
        "num = 0\n",
        "for dataset in datasets_list:\n",
        "  print(dataset)\n",
        "\n",
        "  if (num > 10):\n",
        "    break\n",
        "\n",
        "  num += 1"
      ]
    },
    {
      "cell_type": "code",
      "execution_count": 8,
      "metadata": {
        "colab": {
          "base_uri": "https://localhost:8080/"
        },
        "id": "gbVHqOEsiW7Y",
        "outputId": "60be5728-e1e0-4966-f10d-63f7a387cb5b"
      },
      "outputs": [
        {
          "output_type": "execute_result",
          "data": {
            "text/plain": [
              "DatasetDict({\n",
              "    train: Dataset({\n",
              "        features: ['id', 'url', 'date_scraped', 'headline', 'category', 'ingress', 'article'],\n",
              "        num_rows: 10874\n",
              "    })\n",
              "    validation: Dataset({\n",
              "        features: ['id', 'url', 'date_scraped', 'headline', 'category', 'ingress', 'article'],\n",
              "        num_rows: 819\n",
              "    })\n",
              "    test: Dataset({\n",
              "        features: ['id', 'url', 'date_scraped', 'headline', 'category', 'ingress', 'article'],\n",
              "        num_rows: 1300\n",
              "    })\n",
              "})"
            ]
          },
          "metadata": {},
          "execution_count": 8
        }
      ],
      "source": [
        "from datasets import load_dataset\n",
        "\n",
        "SNL_ds = load_dataset(\"navjordj/SNL_summarization\")\n",
        "SNL_ds"
      ]
    },
    {
      "cell_type": "code",
      "execution_count": 9,
      "metadata": {
        "colab": {
          "base_uri": "https://localhost:8080/"
        },
        "id": "eqR6Jnbbm3Ph",
        "outputId": "56f62ffc-2339-4ca7-991a-23eac9ab6834"
      },
      "outputs": [
        {
          "output_type": "execute_result",
          "data": {
            "text/plain": [
              "Dataset({\n",
              "    features: ['id', 'url', 'date_scraped', 'headline', 'category', 'ingress', 'article'],\n",
              "    num_rows: 326\n",
              "})"
            ]
          },
          "metadata": {},
          "execution_count": 9
        }
      ],
      "source": [
        "SNL_ds = load_dataset(\"navjordj/SNL_summarization\", split=\"train[:3%]\")\n",
        "SNL_ds"
      ]
    },
    {
      "cell_type": "code",
      "execution_count": 11,
      "metadata": {
        "colab": {
          "base_uri": "https://localhost:8080/"
        },
        "id": "_DEAxs6QnuWx",
        "outputId": "37880780-7eaf-4617-9f5f-f42223aa89c6"
      },
      "outputs": [
        {
          "output_type": "execute_result",
          "data": {
            "text/plain": [
              "DatasetDict({\n",
              "    train: Dataset({\n",
              "        features: ['id', 'url', 'date_scraped', 'headline', 'category', 'ingress', 'article'],\n",
              "        num_rows: 260\n",
              "    })\n",
              "    test: Dataset({\n",
              "        features: ['id', 'url', 'date_scraped', 'headline', 'category', 'ingress', 'article'],\n",
              "        num_rows: 66\n",
              "    })\n",
              "})"
            ]
          },
          "metadata": {},
          "execution_count": 11
        }
      ],
      "source": [
        "SNL_ds=SNL_ds.train_test_split(test_size=0.2, seed=42)\n",
        "SNL_ds"
      ]
    },
    {
      "cell_type": "code",
      "execution_count": 12,
      "metadata": {
        "id": "xqRaSJWIo89f"
      },
      "outputs": [],
      "source": [
        "def clean_txt(example):\n",
        "    for txt in [\"category\", \"article\"]:\n",
        "       example[txt]  = example[txt].lower()\n",
        "       example[txt]  = example[txt].replace(\"/\", \"\")\n",
        "       example[txt]  = example[txt].replace(\"\\n\", \"\")\n",
        "       example[txt]  = example[txt].replace(\"``\", \"\")\n",
        "       example[txt]  = example[txt].replace('\"', '')\n",
        "       example[txt]  = example[txt].replace(\"--\", \"\")\n",
        "\n",
        "    return example"
      ]
    },
    {
      "cell_type": "code",
      "source": [
        "cleaned_SNL_ds = SNL_ds.map(clean_txt)\n",
        "cleaned_SNL_ds"
      ],
      "metadata": {
        "colab": {
          "base_uri": "https://localhost:8080/"
        },
        "id": "P4ZUSWLpLH6V",
        "outputId": "6ece0a0a-c73a-4205-b70a-9c41915ee2f4"
      },
      "execution_count": 13,
      "outputs": [
        {
          "output_type": "execute_result",
          "data": {
            "text/plain": [
              "DatasetDict({\n",
              "    train: Dataset({\n",
              "        features: ['id', 'url', 'date_scraped', 'headline', 'category', 'ingress', 'article'],\n",
              "        num_rows: 260\n",
              "    })\n",
              "    test: Dataset({\n",
              "        features: ['id', 'url', 'date_scraped', 'headline', 'category', 'ingress', 'article'],\n",
              "        num_rows: 66\n",
              "    })\n",
              "})"
            ]
          },
          "metadata": {},
          "execution_count": 13
        }
      ]
    },
    {
      "cell_type": "code",
      "execution_count": 14,
      "metadata": {
        "colab": {
          "base_uri": "https://localhost:8080/",
          "height": 140
        },
        "id": "jEgSkU9hpEp5",
        "outputId": "21009d95-ea3c-4a7c-92d5-c8f4623e4253"
      },
      "outputs": [
        {
          "output_type": "execute_result",
          "data": {
            "text/plain": [
              "\"albertus magnus studerte i bologna og padova, hvor han i 1222 trådte inn i dominikanerordenen. fra 1245 til 1248 underviste han ved universitetet i paris med blant andre thomas aquinas som student. aquinas fulgte sin lærer til köln da denne i 1248 ble sendt dit for å opprette et dominikansk studiekloster. i 1260 ble albertus biskop av regensburg, men nedla embetet allerede to år senere. resten av livet bodde han for det meste i köln. han deltok i kirkemøtet i lyon 1274.albertus magnus var en av de første kristne teologene som kommenterte aristoteles' filosofi og søkte å integrere den i kristen tenkning. hans verk ble i så måte videreført av eleven thomas aquinas. begge var innstilt på å løse filosofiske problemer, ikke som teologer, men etter filosofiens egne metoder. man kan også finne innflytelse fra augustin og nyplatonismen i hans verker. han var opptatt av de arabiske filosofene, særlig averroës (ibn rusjd), og hans interesser strakte seg dessuten til naturvitenskapelige observasjoner. hans skrifter er ofte mer preget av kompilasjon enn viljen til å fremsette en egen filosofisk posisjon. les mer i store norske leksikon kristendom kirkelærere doctor ecclesiae kristendommens historie\""
            ],
            "application/vnd.google.colaboratory.intrinsic+json": {
              "type": "string"
            }
          },
          "metadata": {},
          "execution_count": 14
        }
      ],
      "source": [
        "cleaned_SNL_ds['train'][\"article\"][7]"
      ]
    },
    {
      "cell_type": "code",
      "execution_count": 15,
      "metadata": {
        "colab": {
          "base_uri": "https://localhost:8080/",
          "height": 140
        },
        "id": "4B2w6hxDpiDv",
        "outputId": "3a02bc94-96cf-4dc0-899d-76b862d1746f"
      },
      "outputs": [
        {
          "output_type": "execute_result",
          "data": {
            "text/plain": [
              "'På et seilskip danner baugsprydet nedre feste til forseilene klyver, jager og stengestagseil med deres stag. Baugsprydets rigging trekker det ned mot forstevn og vannflaten, ettersom stagene opp til den øvrige riggen trekker baugsprydet i oppadgående retning. Den nedre riggingen av baugsprydet består av et vaterstag, en martingal, og ofte sidestag, som stiver av mot horisontale krefter i sprydet.Baugspryd har også blitt vanlig på moderne seilbåter, både kjølbåter og joller, som feste for fremre hjørne av såkalte genakkerseil og til dels spinnakere. Større seilfartøy i moderne tid fører også normalt et baugspryd, dersom det er hensiktsmessig for riggingen av skipet. Fordelene med baugsprydene er at en kan bygge en noe større rigg, uten å måtte forlenge selve skroget på skipet, som i sin tur ville krevd en enda større rigg. Ved å flytte spesielt de forre stagseilene lengre fram vil skipet ofte dra fordel av bedre eller mer allsidige seilegenskaper.Seilskip ble ofte bygget med en gallionsfigur, spesielt i seilskutetiden, og denne figuren var i mange tilfeller holdt oppe i baugen og sprydet. Under sprydet henger som reglementert et nett som skal forhindre fall i sjøen, men som også er blitt et yndet sted å hvile. Les mer i Store norske leksikon seilskip seiling rigg – sjøvesen martingal'"
            ],
            "application/vnd.google.colaboratory.intrinsic+json": {
              "type": "string"
            }
          },
          "metadata": {},
          "execution_count": 15
        }
      ],
      "source": [
        " SNL_ds['train'][\"article\"][0]"
      ]
    },
    {
      "cell_type": "code",
      "source": [
        " cleaned_SNL_ds['train'][\"article\"][0]"
      ],
      "metadata": {
        "colab": {
          "base_uri": "https://localhost:8080/",
          "height": 140
        },
        "id": "Ntf7Ws8WLW25",
        "outputId": "47357182-35e1-4821-f5de-8a21552a37a0"
      },
      "execution_count": 16,
      "outputs": [
        {
          "output_type": "execute_result",
          "data": {
            "text/plain": [
              "'på et seilskip danner baugsprydet nedre feste til forseilene klyver, jager og stengestagseil med deres stag. baugsprydets rigging trekker det ned mot forstevn og vannflaten, ettersom stagene opp til den øvrige riggen trekker baugsprydet i oppadgående retning. den nedre riggingen av baugsprydet består av et vaterstag, en martingal, og ofte sidestag, som stiver av mot horisontale krefter i sprydet.baugspryd har også blitt vanlig på moderne seilbåter, både kjølbåter og joller, som feste for fremre hjørne av såkalte genakkerseil og til dels spinnakere. større seilfartøy i moderne tid fører også normalt et baugspryd, dersom det er hensiktsmessig for riggingen av skipet. fordelene med baugsprydene er at en kan bygge en noe større rigg, uten å måtte forlenge selve skroget på skipet, som i sin tur ville krevd en enda større rigg. ved å flytte spesielt de forre stagseilene lengre fram vil skipet ofte dra fordel av bedre eller mer allsidige seilegenskaper.seilskip ble ofte bygget med en gallionsfigur, spesielt i seilskutetiden, og denne figuren var i mange tilfeller holdt oppe i baugen og sprydet. under sprydet henger som reglementert et nett som skal forhindre fall i sjøen, men som også er blitt et yndet sted å hvile. les mer i store norske leksikon seilskip seiling rigg – sjøvesen martingal'"
            ],
            "application/vnd.google.colaboratory.intrinsic+json": {
              "type": "string"
            }
          },
          "metadata": {},
          "execution_count": 16
        }
      ]
    },
    {
      "cell_type": "code",
      "execution_count": 17,
      "metadata": {
        "colab": {
          "base_uri": "https://localhost:8080/",
          "height": 140
        },
        "id": "s-rGxp0CqYb6",
        "outputId": "53790fe1-196f-419f-c9bd-0dbe0a8d1dc2"
      },
      "outputs": [
        {
          "output_type": "execute_result",
          "data": {
            "text/plain": [
              "\"bakgrunn dickens blei fødd i portsmouth, men voks opp i london under vanskelege forhold. mr. micawber i david copperfield er eit satirisk portrett av faren, som blei send i fengsel på grunn av gjeld då charles var berre 12 år gammal. guten blei sett i arbeid i ein svertefabrikk, ei audmjukande oppleving som sette sterkt preg på han. skulegangen blei uregelmessig, så han las mykje på eiga hand og studerte folkelivet i londons gater. i 1827 blei han tilsett som lærling på eit sakførarkontor, samstundes som han lærte seg stenografi for å tene pengar som rettsreferent og parlamentsstenograf. journalistiske skisser då han i 1833 byrja å offentleggjere skissene sine frå london (seinare gitt ut som sketches by boz), blei det klart at han var litt meir enn ein vanleg journalist. med the posthumous papers of the pickwick club (1836–1837) var suksessen sikra, og han var snar til å utnytte han. populære hefte det kan trygt seiast at det var dickens som populariserte den engelske romanen. han revolusjonerte faktisk den engelske bokmarknaden då han byrja å selje romanane sine i små, billige hefte som kom ut ein gong i månaden. ein roman blei vanlegvis delt opp i 18 hefte, kvart på 32 sider inklusive illustrasjonar. på denne måten blei dickens' romanar allemannseige, ettersom få romanlesarar var så fattige at dei ikkje hadde råd til éin shilling i månaden. humor og melodrama boka om pickwick-klubben inneheld dei fleste ingrediensane som dickens vidareutvikla i dei seinare romanane sine. ho er eit humoristisk meisterverk, i sterk motsetning til dickens' neste roman, oliver twist, som er ei temmeleg melodramatisk historie om fattigguten som fell i hendene på ein forbrytarbande i london underverd. det er her dickens først trer fram som ein medviten forsvarar for dei ulukkelege i samfunnet. samfunnsreform i dei seinare romanane sine sette han søkjelyset på mange sosiale skeivskapar og bidrog til å påskunde reformprosessen som så vidt hadde kome i gang. av den store produksjonen hans dei følgjande åra må ein nemne nicholas nickleby, martin chuzzlewit, dombey and son, david copperfield, bleak house og hard times. familieproblem i 1836 hadde dickens gifta seg med catherine hogarth og stifta familie. han hadde ei eksepsjonell arbeidskraft og tok på seg mange oppdrag, blant anna som redaktør av tidsskrift, føredragshaldar og opplesar av eigne verk. han var også sterkt selskapeleg innretta. alt dette gjekk ut over familielivet, og då han i slutten av 1850-åra innleidde eit forhold til den unge skodespelarinna ellen ternan, enda ekteskapet i ei bitter skilsmisse. like fullt skreiv han ein av sine beste romanar etter denne perioden, great expectations (store forventningar, 1860–1861). kortformatet i tillegg til romanane skreiv dickens ei rekkje forteljingar i kortare format, som til dømes a christmas carol (ei juleforteljing, 1843), og dessutan reiseskisser og essay. få forfattarar har vore meir omtykte, for produksjonen hans er prega av ekte humor, frodig fantasi og eineståande forteljarkunst. romanfigurane hans blei dessutan levandegjorde av fleire framståande illustratørar, blant anna h.k. browne («phiz») og george cruikshank. kritikarar har meint at dickens til tider fortaper seg i sentimentalitet eller melodrama, men dette blei ikkje oppfatta som svakheiter av dei viktorianske lesarane hans. det er også stor akademisk interesse for forfattarskapen, ikkje minst dei modne, meir komplekse verka hans. filmatiseringar dickens har blitt kjend og populær hos eit stort publikum gjennom ei rekkje fine film-, tv- og sceneversjonar, som george cukors david copperfield (1934), jack conways a tale of two cities (1935), david leans ekspressive great expectations (1946) og oliver twist (1948). oliver! (1960), med tekst og musikk av lionel bart, var ein av dei store britiske musikalsuksessane i 1960-åra, og filmversjonen frå 1968 i regi av carol reed vann seks oscar-prisar. blant mange tidlege versjonar av a christmas carol kan ein nemne scrooge (1951), i regi av brian desmond hurst. a christmas carol kom i ny filmversjon i 2009 og som ny tv-miniserie i 2019, og det er også laga ein film om korleis denne boka blei skriven: the man who invented christmas (2017). christine edzard markerte seg i 1987 med ein stort oppbygd versjon av little dorrit, laga som to filmar på omkring tre timar kvar. denne romanen kom også i ny versjon som tv-serie i 2008. det har blitt laga over 400 film- og fjernsynsversjonar av dickens' bøker, og han er den aller mest adapterte av alle engelske forfattarar. interessa starta alt i dei aller første kortfilm-eksperimenta rundt 1900, og der er mange stumfilm-versjonar av bøkene hans. sidan har interessa berre vart ved i alle tiår fram til i dag. dei siste tretti åra har til dømes david copperfield kome i nye versjonar i 1999 (tv-serie), 2000 og 2020, nicholas nickleby i 2002 (og før det i 1982), our mutual friend i 1998, bleak house i 2005 (og 1985). ein av dei mest populære er great expectations, der vi har nye filmar i 2013 (graham mclaren), 2012 (film), 2011 (tv-serie), 1999 (tv-film) og mange tidlegare. der er også mange animerte versjonar, og av dei mest kjende er the muppet christmas carol (1992), disneys mickey's christmas carol (1983) eller disneys oliver twist (1988). ein av dei nyaste produksjonane er ein morosam fjernsynsserie der personar frå ulike romanar blir blanda til eit nytt detektiv-mysterium, svært underhaldande for alle som kjenner litt til bøkene og det fargerike dickenske persongalleriet (dickensian 2015–2016, på norsk tv med tittelen dickens' jul). eit utval verk the mystery of edwin drood (uferdig, 1870)  our mutual friend (1865)  great expectations (1861)  a tale of two cities (1859)  little dorrit (1857)  hard times (1854)  bleak house (1853)  david copperfield (1849–1850)  dombey and son (1847–1848)  martin chuzzlewit (1843–1844)  barnaby rudge (1840–1841)  the old curiosity shop (1840–1841)  nicholas nickleby (1838–1839)  oliver twist (1837–1838)  the posthumous papers of the pickwick club (1836–1837)  sketches by boz (1836) les meir i store norske leksikon storbritannias litteratur litteraturhistorie litteraturvitskap litteratur ackroyd, peter: dickens, 1990, isbn 0-06-016602-9 butt, john & kathleen tillotson: dickens at work, 1957, isbn 0-416-29710-2 connor, steven: charles dickens, 1985, isbn 0-631-13512-x forster, john: the life of charles dickens, 1872–74, 3 bind glavin, john (red.): dickens on screen, 2003, cambridge university press johnson, edgar: charles dickens : his tragedy and triumph, 1952, 2 bind leavis, f.r. & q.d. leavis: dickens the novelist, 1970, isbn 0-7011-1644-7 miller, j. hillis: charles dickens : the world of his novels, 1958 rem, tore: dickens, melodrama, and the parodic imagination, 2002, isbn 0-404-64458-9 schlicke, paul, red.: oxford reader's companion to dickens, 1999, isbn 0-19-866213-0\""
            ],
            "application/vnd.google.colaboratory.intrinsic+json": {
              "type": "string"
            }
          },
          "metadata": {},
          "execution_count": 17
        }
      ],
      "source": [
        "EXAMPLE_TEXT_INDEX = 0\n",
        "example_text = cleaned_SNL_ds[\"test\"][\"article\"][EXAMPLE_TEXT_INDEX]\n",
        "example_text"
      ]
    },
    {
      "cell_type": "code",
      "execution_count": 18,
      "metadata": {
        "id": "wKwX-lpJqpEL"
      },
      "outputs": [],
      "source": [
        "MODEL_NAME= \"navjordj/snl-summarization\""
      ]
    },
    {
      "cell_type": "code",
      "execution_count": 19,
      "metadata": {
        "colab": {
          "base_uri": "https://localhost:8080/"
        },
        "id": "CNPOKEL7rRYr",
        "outputId": "2badeea6-32d4-4a6e-d875-90b52526cb74"
      },
      "outputs": [
        {
          "output_type": "stream",
          "name": "stderr",
          "text": [
            "/usr/local/lib/python3.10/dist-packages/transformers/tokenization_utils_base.py:1601: FutureWarning: `clean_up_tokenization_spaces` was not set. It will be set to `True` by default. This behavior will be depracted in transformers v4.45, and will be then set to `False` by default. For more details check this issue: https://github.com/huggingface/transformers/issues/31884\n",
            "  warnings.warn(\n",
            "/usr/local/lib/python3.10/dist-packages/transformers/generation/utils.py:1258: UserWarning: Using the model-agnostic default `max_length` (=20) to control the generation length. We recommend setting `max_new_tokens` to control the maximum length of the generation.\n",
            "  warnings.warn(\n"
          ]
        },
        {
          "output_type": "execute_result",
          "data": {
            "text/plain": [
              "[{'summary_text': 'charles dickens er ein engelsk forfattar. Han skreiv ei rekkje romanar,'}]"
            ]
          },
          "metadata": {},
          "execution_count": 19
        }
      ],
      "source": [
        "from transformers import pipeline\n",
        "\n",
        "prefix = \"summarize: \"\n",
        "\n",
        "summarizer = pipeline(\"summarization\", model = MODEL_NAME)\n",
        "\n",
        "summary_txt = summarizer(prefix + example_text)\n",
        "\n",
        "summary_txt"
      ]
    },
    {
      "cell_type": "code",
      "execution_count": 20,
      "metadata": {
        "colab": {
          "base_uri": "https://localhost:8080/"
        },
        "id": "68l4SCOFr09u",
        "outputId": "e00bfef3-0504-40de-d0c6-8ffb4c9e339a"
      },
      "outputs": [
        {
          "output_type": "stream",
          "name": "stderr",
          "text": [
            "Asking to truncate to max_length but no maximum length is provided and the model has no predefined maximum length. Default to no truncation.\n"
          ]
        },
        {
          "output_type": "execute_result",
          "data": {
            "text/plain": [
              "[{'summary_text': 'charles dickens er ein engelsk forfattar. Han skreiv ei rekkje romanar,'}]"
            ]
          },
          "metadata": {},
          "execution_count": 20
        }
      ],
      "source": [
        "summarizer = pipeline(\"summarization\", model = MODEL_NAME, truncation=True)\n",
        "summary_txt = summarizer(prefix + example_text)\n",
        "summary_txt"
      ]
    },
    {
      "cell_type": "code",
      "execution_count": 21,
      "metadata": {
        "colab": {
          "base_uri": "https://localhost:8080/",
          "height": 53
        },
        "id": "BzazlqLqrioZ",
        "outputId": "a90719ce-3677-4530-b1a1-bce89bda3894"
      },
      "outputs": [
        {
          "output_type": "execute_result",
          "data": {
            "text/plain": [
              "'store norske leksikon,språk og litteratur,litteratur i verden,europa,storbritannia og nord-irlands litteratur,storbritannia og nord-irlands litteratur på 1800-tallet'"
            ],
            "application/vnd.google.colaboratory.intrinsic+json": {
              "type": "string"
            }
          },
          "metadata": {},
          "execution_count": 21
        }
      ],
      "source": [
        "ref_txt = cleaned_SNL_ds[\"test\"][\"category\"][EXAMPLE_TEXT_INDEX]\n",
        "ref_txt"
      ]
    },
    {
      "cell_type": "code",
      "execution_count": 22,
      "metadata": {
        "colab": {
          "base_uri": "https://localhost:8080/"
        },
        "id": "RsWum_qNrmP1",
        "outputId": "33d8824c-8d27-474d-a7cd-0c6332ea7617"
      },
      "outputs": [
        {
          "output_type": "execute_result",
          "data": {
            "text/plain": [
              "EvaluationModule(name: \"rouge\", module_type: \"metric\", features: [{'predictions': Value(dtype='string', id='sequence'), 'references': Sequence(feature=Value(dtype='string', id='sequence'), length=-1, id=None)}, {'predictions': Value(dtype='string', id='sequence'), 'references': Value(dtype='string', id='sequence')}], usage: \"\"\"\n",
              "Calculates average rouge scores for a list of hypotheses and references\n",
              "Args:\n",
              "    predictions: list of predictions to score. Each prediction\n",
              "        should be a string with tokens separated by spaces.\n",
              "    references: list of reference for each prediction. Each\n",
              "        reference should be a string with tokens separated by spaces.\n",
              "    rouge_types: A list of rouge types to calculate.\n",
              "        Valid names:\n",
              "        `\"rouge{n}\"` (e.g. `\"rouge1\"`, `\"rouge2\"`) where: {n} is the n-gram based scoring,\n",
              "        `\"rougeL\"`: Longest common subsequence based scoring.\n",
              "        `\"rougeLsum\"`: rougeLsum splits text using `\"\n",
              "\"`.\n",
              "        See details in https://github.com/huggingface/datasets/issues/617\n",
              "    use_stemmer: Bool indicating whether Porter stemmer should be used to strip word suffixes.\n",
              "    use_aggregator: Return aggregates if this is set to True\n",
              "Returns:\n",
              "    rouge1: rouge_1 (f1),\n",
              "    rouge2: rouge_2 (f1),\n",
              "    rougeL: rouge_l (f1),\n",
              "    rougeLsum: rouge_lsum (f1)\n",
              "Examples:\n",
              "\n",
              "    >>> rouge = evaluate.load('rouge')\n",
              "    >>> predictions = [\"hello there\", \"general kenobi\"]\n",
              "    >>> references = [\"hello there\", \"general kenobi\"]\n",
              "    >>> results = rouge.compute(predictions=predictions, references=references)\n",
              "    >>> print(results)\n",
              "    {'rouge1': 1.0, 'rouge2': 1.0, 'rougeL': 1.0, 'rougeLsum': 1.0}\n",
              "\"\"\", stored examples: 0)"
            ]
          },
          "metadata": {},
          "execution_count": 22
        }
      ],
      "source": [
        "import evaluate\n",
        "rouge = evaluate.load(\"rouge\")\n",
        "rouge"
      ]
    },
    {
      "cell_type": "code",
      "execution_count": 23,
      "metadata": {
        "id": "Hl-UvRjxsRrx"
      },
      "outputs": [],
      "source": [
        "reference = \"Albrechts karriere ble definert av hans store engasjement for sjeldent fremført repertoar, noe som ga ham et rykte for å gjenopplive skjulte musikalske perler.\"\n",
        "\n",
        "ex_1 = \"Albrechts dedikasjon til å avdekke skjulte musikalske perler var tydelig i hans store engasjement for sjeldent fremført repertoar, og brakte glemte stykker til live på scenen.\"\n",
        "\n",
        "ex_2 = \"Hans lidenskap for mangfold i klassisk musikkprogrammering førte til at Albrecht fokuserte på sjeldent fremført repertoar, og ga publikum en unik lytteopplevelse.\"\n"
      ]
    },
    {
      "cell_type": "code",
      "execution_count": 24,
      "metadata": {
        "colab": {
          "base_uri": "https://localhost:8080/"
        },
        "id": "LGx5IRV-slk7",
        "outputId": "b883ae2e-e613-420c-cf50-2cde673685bf"
      },
      "outputs": [
        {
          "output_type": "execute_result",
          "data": {
            "text/plain": [
              "{'rouge1': 0.48000000000000004,\n",
              " 'rouge2': 0.37499999999999994,\n",
              " 'rougeL': 0.35999999999999993,\n",
              " 'rougeLsum': 0.35999999999999993}"
            ]
          },
          "metadata": {},
          "execution_count": 24
        }
      ],
      "source": [
        "results = rouge.compute(predictions = [ex_1], references = [reference])\n",
        "results"
      ]
    },
    {
      "cell_type": "code",
      "execution_count": 25,
      "metadata": {
        "colab": {
          "base_uri": "https://localhost:8080/"
        },
        "id": "KaEGEnaPsoBh",
        "outputId": "4fbc222f-df07-4592-a293-da8d624c61b4"
      },
      "outputs": [
        {
          "output_type": "execute_result",
          "data": {
            "text/plain": [
              "{'rouge1': 0.2916666666666667,\n",
              " 'rouge2': 0.13043478260869565,\n",
              " 'rougeL': 0.2916666666666667,\n",
              " 'rougeLsum': 0.2916666666666667}"
            ]
          },
          "metadata": {},
          "execution_count": 25
        }
      ],
      "source": [
        "results = rouge.compute(predictions = [ex_2], references = [reference])\n",
        "results"
      ]
    },
    {
      "cell_type": "code",
      "execution_count": 26,
      "metadata": {
        "colab": {
          "base_uri": "https://localhost:8080/",
          "height": 35
        },
        "id": "kWw3N2zUsqrP",
        "outputId": "aef09e61-096e-4cdb-90c6-588314180196"
      },
      "outputs": [
        {
          "output_type": "execute_result",
          "data": {
            "text/plain": [
              "'charles dickens er ein engelsk forfattar. Han skreiv ei rekkje romanar,'"
            ],
            "application/vnd.google.colaboratory.intrinsic+json": {
              "type": "string"
            }
          },
          "metadata": {},
          "execution_count": 26
        }
      ],
      "source": [
        "summary_txt[0][\"summary_text\"]"
      ]
    },
    {
      "cell_type": "code",
      "execution_count": 27,
      "metadata": {
        "colab": {
          "base_uri": "https://localhost:8080/"
        },
        "id": "WuesTi0tsvfT",
        "outputId": "29a7b99c-4fb0-4bc6-f715-eec5ca7cf56d"
      },
      "outputs": [
        {
          "output_type": "execute_result",
          "data": {
            "text/plain": [
              "{'rouge1': 0.0, 'rouge2': 0.0, 'rougeL': 0.0, 'rougeLsum': 0.0}"
            ]
          },
          "metadata": {},
          "execution_count": 27
        }
      ],
      "source": [
        "result = rouge.compute(predictions = [summary_txt[0][\"summary_text\"]],\n",
        "                       references = [ref_txt], use_stemmer = True)\n",
        "result"
      ]
    },
    {
      "cell_type": "code",
      "execution_count": 28,
      "metadata": {
        "id": "EBhexboWsx9T"
      },
      "outputs": [],
      "source": [
        "article_texts = cleaned_SNL_ds[\"test\"][\"article\"]\n",
        "\n",
        "article_categories = cleaned_SNL_ds[\"test\"][\"category\"]"
      ]
    },
    {
      "cell_type": "code",
      "execution_count": 29,
      "metadata": {
        "colab": {
          "base_uri": "https://localhost:8080/"
        },
        "id": "FnUwW_Ess9lx",
        "outputId": "faf8fff9-8842-43bd-c014-b0aa67c9c1e7"
      },
      "outputs": [
        {
          "output_type": "stream",
          "name": "stderr",
          "text": [
            "100%|██████████| 50/50 [04:58<00:00,  5.97s/it]\n"
          ]
        }
      ],
      "source": [
        "from tqdm import tqdm\n",
        "\n",
        "candidate_summaries = []\n",
        "\n",
        "prefix = \"summarize: \"\n",
        "\n",
        "for i, text in enumerate(tqdm(article_texts[:50])):\n",
        "\n",
        "    candidate = summarizer(prefix + text)\n",
        "\n",
        "    candidate_summaries.append(candidate[0][\"summary_text\"])"
      ]
    },
    {
      "cell_type": "code",
      "execution_count": 30,
      "metadata": {
        "colab": {
          "base_uri": "https://localhost:8080/"
        },
        "id": "5ZTs7NL3tBha",
        "outputId": "dcbd0ac9-b7f5-4288-c98e-3e31c6956f30"
      },
      "outputs": [
        {
          "output_type": "execute_result",
          "data": {
            "text/plain": [
              "{'rouge1': 0.06072732656140689,\n",
              " 'rouge2': 0.004926686217008797,\n",
              " 'rougeL': 0.055927650265163095,\n",
              " 'rougeLsum': 0.056694749782921494}"
            ]
          },
          "metadata": {},
          "execution_count": 30
        }
      ],
      "source": [
        "result_agg = rouge.compute(predictions = candidate_summaries,\n",
        "                           references = article_categories[:50],\n",
        "                           use_stemmer = True)\n",
        "result_agg"
      ]
    },
    {
      "cell_type": "code",
      "execution_count": 31,
      "metadata": {
        "colab": {
          "base_uri": "https://localhost:8080/"
        },
        "id": "AwWgPimttGP5",
        "outputId": "c8089883-1e06-425f-ce05-4f4ee3a4ea98"
      },
      "outputs": [
        {
          "output_type": "execute_result",
          "data": {
            "text/plain": [
              "{'rouge1': [0.0,\n",
              "  0.0,\n",
              "  0.09523809523809525,\n",
              "  0.0,\n",
              "  0.10526315789473684,\n",
              "  0.1904761904761905,\n",
              "  0.14285714285714288,\n",
              "  0.0,\n",
              "  0.33333333333333337,\n",
              "  0.17391304347826086,\n",
              "  0.08695652173913043,\n",
              "  0.1904761904761905,\n",
              "  0.0,\n",
              "  0.09523809523809525,\n",
              "  0.0,\n",
              "  0.07142857142857144,\n",
              "  0.0,\n",
              "  0.10526315789473685,\n",
              "  0.13793103448275862,\n",
              "  0.0,\n",
              "  0.0,\n",
              "  0.10000000000000002,\n",
              "  0.0,\n",
              "  0.0,\n",
              "  0.0,\n",
              "  0.08695652173913043,\n",
              "  0.0,\n",
              "  0.0,\n",
              "  0.0,\n",
              "  0.10526315789473685,\n",
              "  0.1111111111111111,\n",
              "  0.1818181818181818,\n",
              "  0.0,\n",
              "  0.0,\n",
              "  0.08,\n",
              "  0.08695652173913043,\n",
              "  0.08333333333333333,\n",
              "  0.07692307692307691,\n",
              "  0.0,\n",
              "  0.0,\n",
              "  0.08333333333333333,\n",
              "  0.052631578947368425,\n",
              "  0.0,\n",
              "  0.08695652173913043,\n",
              "  0.0,\n",
              "  0.07142857142857144,\n",
              "  0.0,\n",
              "  0.07407407407407407,\n",
              "  0.0,\n",
              "  0.0],\n",
              " 'rouge2': [0.0,\n",
              "  0.0,\n",
              "  0.0,\n",
              "  0.0,\n",
              "  0.0,\n",
              "  0.0,\n",
              "  0.0,\n",
              "  0.0,\n",
              "  0.1818181818181818,\n",
              "  0.0,\n",
              "  0.0,\n",
              "  0.0,\n",
              "  0.0,\n",
              "  0.0,\n",
              "  0.0,\n",
              "  0.0,\n",
              "  0.0,\n",
              "  0.0,\n",
              "  0.0,\n",
              "  0.0,\n",
              "  0.0,\n",
              "  0.0,\n",
              "  0.0,\n",
              "  0.0,\n",
              "  0.0,\n",
              "  0.0,\n",
              "  0.0,\n",
              "  0.0,\n",
              "  0.0,\n",
              "  0.0,\n",
              "  0.0,\n",
              "  0.06451612903225806,\n",
              "  0.0,\n",
              "  0.0,\n",
              "  0.0,\n",
              "  0.0,\n",
              "  0.0,\n",
              "  0.0,\n",
              "  0.0,\n",
              "  0.0,\n",
              "  0.0,\n",
              "  0.0,\n",
              "  0.0,\n",
              "  0.0,\n",
              "  0.0,\n",
              "  0.0,\n",
              "  0.0,\n",
              "  0.0,\n",
              "  0.0,\n",
              "  0.0],\n",
              " 'rougeL': [0.0,\n",
              "  0.0,\n",
              "  0.09523809523809525,\n",
              "  0.0,\n",
              "  0.10526315789473684,\n",
              "  0.09523809523809525,\n",
              "  0.14285714285714288,\n",
              "  0.0,\n",
              "  0.33333333333333337,\n",
              "  0.17391304347826086,\n",
              "  0.08695652173913043,\n",
              "  0.09523809523809525,\n",
              "  0.0,\n",
              "  0.09523809523809525,\n",
              "  0.0,\n",
              "  0.07142857142857144,\n",
              "  0.0,\n",
              "  0.10526315789473685,\n",
              "  0.13793103448275862,\n",
              "  0.0,\n",
              "  0.0,\n",
              "  0.10000000000000002,\n",
              "  0.0,\n",
              "  0.0,\n",
              "  0.0,\n",
              "  0.08695652173913043,\n",
              "  0.0,\n",
              "  0.0,\n",
              "  0.0,\n",
              "  0.10526315789473685,\n",
              "  0.1111111111111111,\n",
              "  0.1818181818181818,\n",
              "  0.0,\n",
              "  0.0,\n",
              "  0.08,\n",
              "  0.08695652173913043,\n",
              "  0.08333333333333333,\n",
              "  0.07692307692307691,\n",
              "  0.0,\n",
              "  0.0,\n",
              "  0.08333333333333333,\n",
              "  0.052631578947368425,\n",
              "  0.0,\n",
              "  0.08695652173913043,\n",
              "  0.0,\n",
              "  0.07142857142857144,\n",
              "  0.0,\n",
              "  0.07407407407407407,\n",
              "  0.0,\n",
              "  0.0],\n",
              " 'rougeLsum': [0.0,\n",
              "  0.0,\n",
              "  0.09523809523809525,\n",
              "  0.0,\n",
              "  0.10526315789473684,\n",
              "  0.09523809523809525,\n",
              "  0.14285714285714288,\n",
              "  0.0,\n",
              "  0.33333333333333337,\n",
              "  0.17391304347826086,\n",
              "  0.08695652173913043,\n",
              "  0.09523809523809525,\n",
              "  0.0,\n",
              "  0.09523809523809525,\n",
              "  0.0,\n",
              "  0.07142857142857144,\n",
              "  0.0,\n",
              "  0.10526315789473685,\n",
              "  0.13793103448275862,\n",
              "  0.0,\n",
              "  0.0,\n",
              "  0.10000000000000002,\n",
              "  0.0,\n",
              "  0.0,\n",
              "  0.0,\n",
              "  0.08695652173913043,\n",
              "  0.0,\n",
              "  0.0,\n",
              "  0.0,\n",
              "  0.10526315789473685,\n",
              "  0.1111111111111111,\n",
              "  0.1818181818181818,\n",
              "  0.0,\n",
              "  0.0,\n",
              "  0.08,\n",
              "  0.08695652173913043,\n",
              "  0.08333333333333333,\n",
              "  0.07692307692307691,\n",
              "  0.0,\n",
              "  0.0,\n",
              "  0.08333333333333333,\n",
              "  0.052631578947368425,\n",
              "  0.0,\n",
              "  0.08695652173913043,\n",
              "  0.0,\n",
              "  0.07142857142857144,\n",
              "  0.0,\n",
              "  0.07407407407407407,\n",
              "  0.0,\n",
              "  0.0]}"
            ]
          },
          "metadata": {},
          "execution_count": 31
        }
      ],
      "source": [
        "result_unagg = rouge.compute(predictions = candidate_summaries,\n",
        "                             references = article_categories[:50],\n",
        "                             use_stemmer = True,\n",
        "                             use_aggregator = False)\n",
        "result_unagg"
      ]
    },
    {
      "cell_type": "code",
      "execution_count": 32,
      "metadata": {
        "colab": {
          "base_uri": "https://localhost:8080/"
        },
        "id": "g3Z4akwZtIOy",
        "outputId": "23655f35-eeb9-447e-bdc5-b44eedd34714"
      },
      "outputs": [
        {
          "output_type": "execute_result",
          "data": {
            "text/plain": [
              "(8, 0)"
            ]
          },
          "metadata": {},
          "execution_count": 32
        }
      ],
      "source": [
        "import numpy as np\n",
        "\n",
        "result_unagg_rsum = np.array(result_unagg[\"rouge2\"])\n",
        "\n",
        "np.argmax(result_unagg_rsum), np.argmin(result_unagg_rsum)"
      ]
    },
    {
      "cell_type": "code",
      "execution_count": 33,
      "metadata": {
        "colab": {
          "base_uri": "https://localhost:8080/",
          "height": 206
        },
        "id": "Y0EbDeq0tUFD",
        "outputId": "37e78f98-42e4-48c9-cccf-ef9472e2f7a1"
      },
      "outputs": [
        {
          "output_type": "execute_result",
          "data": {
            "text/plain": [
              "                                 Predicted_Summaries  \\\n",
              "0  charles dickens er ein engelsk forfattar. Han ...   \n",
              "1  François césar var en fransk maler. Han var en...   \n",
              "2  William bennett jr. var en britisk journalist ...   \n",
              "3  Andrzej dmowski var en polsk politiker. Han va...   \n",
              "4  William broom var en australsk paleontolog. Ha...   \n",
              "\n",
              "                                 Reference_summaries  \n",
              "0  store norske leksikon,språk og litteratur,litt...  \n",
              "1  store norske leksikon,kunst og estetikk,bilden...  \n",
              "2  store norske leksikon,samfunn,medier,aviser,av...  \n",
              "3  store norske leksikon,historie,verdens histori...  \n",
              "4  store norske leksikon,realfag,paleontologi,pal...  "
            ],
            "text/html": [
              "\n",
              "  <div id=\"df-b7979c99-d628-4461-afd2-0ebdf7e91dea\" class=\"colab-df-container\">\n",
              "    <div>\n",
              "<style scoped>\n",
              "    .dataframe tbody tr th:only-of-type {\n",
              "        vertical-align: middle;\n",
              "    }\n",
              "\n",
              "    .dataframe tbody tr th {\n",
              "        vertical-align: top;\n",
              "    }\n",
              "\n",
              "    .dataframe thead th {\n",
              "        text-align: right;\n",
              "    }\n",
              "</style>\n",
              "<table border=\"1\" class=\"dataframe\">\n",
              "  <thead>\n",
              "    <tr style=\"text-align: right;\">\n",
              "      <th></th>\n",
              "      <th>Predicted_Summaries</th>\n",
              "      <th>Reference_summaries</th>\n",
              "    </tr>\n",
              "  </thead>\n",
              "  <tbody>\n",
              "    <tr>\n",
              "      <th>0</th>\n",
              "      <td>charles dickens er ein engelsk forfattar. Han ...</td>\n",
              "      <td>store norske leksikon,språk og litteratur,litt...</td>\n",
              "    </tr>\n",
              "    <tr>\n",
              "      <th>1</th>\n",
              "      <td>François césar var en fransk maler. Han var en...</td>\n",
              "      <td>store norske leksikon,kunst og estetikk,bilden...</td>\n",
              "    </tr>\n",
              "    <tr>\n",
              "      <th>2</th>\n",
              "      <td>William bennett jr. var en britisk journalist ...</td>\n",
              "      <td>store norske leksikon,samfunn,medier,aviser,av...</td>\n",
              "    </tr>\n",
              "    <tr>\n",
              "      <th>3</th>\n",
              "      <td>Andrzej dmowski var en polsk politiker. Han va...</td>\n",
              "      <td>store norske leksikon,historie,verdens histori...</td>\n",
              "    </tr>\n",
              "    <tr>\n",
              "      <th>4</th>\n",
              "      <td>William broom var en australsk paleontolog. Ha...</td>\n",
              "      <td>store norske leksikon,realfag,paleontologi,pal...</td>\n",
              "    </tr>\n",
              "  </tbody>\n",
              "</table>\n",
              "</div>\n",
              "    <div class=\"colab-df-buttons\">\n",
              "\n",
              "  <div class=\"colab-df-container\">\n",
              "    <button class=\"colab-df-convert\" onclick=\"convertToInteractive('df-b7979c99-d628-4461-afd2-0ebdf7e91dea')\"\n",
              "            title=\"Convert this dataframe to an interactive table.\"\n",
              "            style=\"display:none;\">\n",
              "\n",
              "  <svg xmlns=\"http://www.w3.org/2000/svg\" height=\"24px\" viewBox=\"0 -960 960 960\">\n",
              "    <path d=\"M120-120v-720h720v720H120Zm60-500h600v-160H180v160Zm220 220h160v-160H400v160Zm0 220h160v-160H400v160ZM180-400h160v-160H180v160Zm440 0h160v-160H620v160ZM180-180h160v-160H180v160Zm440 0h160v-160H620v160Z\"/>\n",
              "  </svg>\n",
              "    </button>\n",
              "\n",
              "  <style>\n",
              "    .colab-df-container {\n",
              "      display:flex;\n",
              "      gap: 12px;\n",
              "    }\n",
              "\n",
              "    .colab-df-convert {\n",
              "      background-color: #E8F0FE;\n",
              "      border: none;\n",
              "      border-radius: 50%;\n",
              "      cursor: pointer;\n",
              "      display: none;\n",
              "      fill: #1967D2;\n",
              "      height: 32px;\n",
              "      padding: 0 0 0 0;\n",
              "      width: 32px;\n",
              "    }\n",
              "\n",
              "    .colab-df-convert:hover {\n",
              "      background-color: #E2EBFA;\n",
              "      box-shadow: 0px 1px 2px rgba(60, 64, 67, 0.3), 0px 1px 3px 1px rgba(60, 64, 67, 0.15);\n",
              "      fill: #174EA6;\n",
              "    }\n",
              "\n",
              "    .colab-df-buttons div {\n",
              "      margin-bottom: 4px;\n",
              "    }\n",
              "\n",
              "    [theme=dark] .colab-df-convert {\n",
              "      background-color: #3B4455;\n",
              "      fill: #D2E3FC;\n",
              "    }\n",
              "\n",
              "    [theme=dark] .colab-df-convert:hover {\n",
              "      background-color: #434B5C;\n",
              "      box-shadow: 0px 1px 3px 1px rgba(0, 0, 0, 0.15);\n",
              "      filter: drop-shadow(0px 1px 2px rgba(0, 0, 0, 0.3));\n",
              "      fill: #FFFFFF;\n",
              "    }\n",
              "  </style>\n",
              "\n",
              "    <script>\n",
              "      const buttonEl =\n",
              "        document.querySelector('#df-b7979c99-d628-4461-afd2-0ebdf7e91dea button.colab-df-convert');\n",
              "      buttonEl.style.display =\n",
              "        google.colab.kernel.accessAllowed ? 'block' : 'none';\n",
              "\n",
              "      async function convertToInteractive(key) {\n",
              "        const element = document.querySelector('#df-b7979c99-d628-4461-afd2-0ebdf7e91dea');\n",
              "        const dataTable =\n",
              "          await google.colab.kernel.invokeFunction('convertToInteractive',\n",
              "                                                    [key], {});\n",
              "        if (!dataTable) return;\n",
              "\n",
              "        const docLinkHtml = 'Like what you see? Visit the ' +\n",
              "          '<a target=\"_blank\" href=https://colab.research.google.com/notebooks/data_table.ipynb>data table notebook</a>'\n",
              "          + ' to learn more about interactive tables.';\n",
              "        element.innerHTML = '';\n",
              "        dataTable['output_type'] = 'display_data';\n",
              "        await google.colab.output.renderOutput(dataTable, element);\n",
              "        const docLink = document.createElement('div');\n",
              "        docLink.innerHTML = docLinkHtml;\n",
              "        element.appendChild(docLink);\n",
              "      }\n",
              "    </script>\n",
              "  </div>\n",
              "\n",
              "\n",
              "<div id=\"df-01099066-0a08-48f3-90a4-f0ec0cab4149\">\n",
              "  <button class=\"colab-df-quickchart\" onclick=\"quickchart('df-01099066-0a08-48f3-90a4-f0ec0cab4149')\"\n",
              "            title=\"Suggest charts\"\n",
              "            style=\"display:none;\">\n",
              "\n",
              "<svg xmlns=\"http://www.w3.org/2000/svg\" height=\"24px\"viewBox=\"0 0 24 24\"\n",
              "     width=\"24px\">\n",
              "    <g>\n",
              "        <path d=\"M19 3H5c-1.1 0-2 .9-2 2v14c0 1.1.9 2 2 2h14c1.1 0 2-.9 2-2V5c0-1.1-.9-2-2-2zM9 17H7v-7h2v7zm4 0h-2V7h2v10zm4 0h-2v-4h2v4z\"/>\n",
              "    </g>\n",
              "</svg>\n",
              "  </button>\n",
              "\n",
              "<style>\n",
              "  .colab-df-quickchart {\n",
              "      --bg-color: #E8F0FE;\n",
              "      --fill-color: #1967D2;\n",
              "      --hover-bg-color: #E2EBFA;\n",
              "      --hover-fill-color: #174EA6;\n",
              "      --disabled-fill-color: #AAA;\n",
              "      --disabled-bg-color: #DDD;\n",
              "  }\n",
              "\n",
              "  [theme=dark] .colab-df-quickchart {\n",
              "      --bg-color: #3B4455;\n",
              "      --fill-color: #D2E3FC;\n",
              "      --hover-bg-color: #434B5C;\n",
              "      --hover-fill-color: #FFFFFF;\n",
              "      --disabled-bg-color: #3B4455;\n",
              "      --disabled-fill-color: #666;\n",
              "  }\n",
              "\n",
              "  .colab-df-quickchart {\n",
              "    background-color: var(--bg-color);\n",
              "    border: none;\n",
              "    border-radius: 50%;\n",
              "    cursor: pointer;\n",
              "    display: none;\n",
              "    fill: var(--fill-color);\n",
              "    height: 32px;\n",
              "    padding: 0;\n",
              "    width: 32px;\n",
              "  }\n",
              "\n",
              "  .colab-df-quickchart:hover {\n",
              "    background-color: var(--hover-bg-color);\n",
              "    box-shadow: 0 1px 2px rgba(60, 64, 67, 0.3), 0 1px 3px 1px rgba(60, 64, 67, 0.15);\n",
              "    fill: var(--button-hover-fill-color);\n",
              "  }\n",
              "\n",
              "  .colab-df-quickchart-complete:disabled,\n",
              "  .colab-df-quickchart-complete:disabled:hover {\n",
              "    background-color: var(--disabled-bg-color);\n",
              "    fill: var(--disabled-fill-color);\n",
              "    box-shadow: none;\n",
              "  }\n",
              "\n",
              "  .colab-df-spinner {\n",
              "    border: 2px solid var(--fill-color);\n",
              "    border-color: transparent;\n",
              "    border-bottom-color: var(--fill-color);\n",
              "    animation:\n",
              "      spin 1s steps(1) infinite;\n",
              "  }\n",
              "\n",
              "  @keyframes spin {\n",
              "    0% {\n",
              "      border-color: transparent;\n",
              "      border-bottom-color: var(--fill-color);\n",
              "      border-left-color: var(--fill-color);\n",
              "    }\n",
              "    20% {\n",
              "      border-color: transparent;\n",
              "      border-left-color: var(--fill-color);\n",
              "      border-top-color: var(--fill-color);\n",
              "    }\n",
              "    30% {\n",
              "      border-color: transparent;\n",
              "      border-left-color: var(--fill-color);\n",
              "      border-top-color: var(--fill-color);\n",
              "      border-right-color: var(--fill-color);\n",
              "    }\n",
              "    40% {\n",
              "      border-color: transparent;\n",
              "      border-right-color: var(--fill-color);\n",
              "      border-top-color: var(--fill-color);\n",
              "    }\n",
              "    60% {\n",
              "      border-color: transparent;\n",
              "      border-right-color: var(--fill-color);\n",
              "    }\n",
              "    80% {\n",
              "      border-color: transparent;\n",
              "      border-right-color: var(--fill-color);\n",
              "      border-bottom-color: var(--fill-color);\n",
              "    }\n",
              "    90% {\n",
              "      border-color: transparent;\n",
              "      border-bottom-color: var(--fill-color);\n",
              "    }\n",
              "  }\n",
              "</style>\n",
              "\n",
              "  <script>\n",
              "    async function quickchart(key) {\n",
              "      const quickchartButtonEl =\n",
              "        document.querySelector('#' + key + ' button');\n",
              "      quickchartButtonEl.disabled = true;  // To prevent multiple clicks.\n",
              "      quickchartButtonEl.classList.add('colab-df-spinner');\n",
              "      try {\n",
              "        const charts = await google.colab.kernel.invokeFunction(\n",
              "            'suggestCharts', [key], {});\n",
              "      } catch (error) {\n",
              "        console.error('Error during call to suggestCharts:', error);\n",
              "      }\n",
              "      quickchartButtonEl.classList.remove('colab-df-spinner');\n",
              "      quickchartButtonEl.classList.add('colab-df-quickchart-complete');\n",
              "    }\n",
              "    (() => {\n",
              "      let quickchartButtonEl =\n",
              "        document.querySelector('#df-01099066-0a08-48f3-90a4-f0ec0cab4149 button');\n",
              "      quickchartButtonEl.style.display =\n",
              "        google.colab.kernel.accessAllowed ? 'block' : 'none';\n",
              "    })();\n",
              "  </script>\n",
              "</div>\n",
              "\n",
              "    </div>\n",
              "  </div>\n"
            ],
            "application/vnd.google.colaboratory.intrinsic+json": {
              "type": "dataframe",
              "variable_name": "act_vs_pred_summaries_df",
              "summary": "{\n  \"name\": \"act_vs_pred_summaries_df\",\n  \"rows\": 50,\n  \"fields\": [\n    {\n      \"column\": \"Predicted_Summaries\",\n      \"properties\": {\n        \"dtype\": \"string\",\n        \"num_unique_values\": 50,\n        \"samples\": [\n          \"Flatklokkehatt er en sopp i slekten klokkehatter. Den\",\n          \"deklaratorisk er en lov som gjelder kj\\u00f8p utenom forbrukerkj\\u00f8p. Loven er\",\n          \"Ekiti er en delstat i nigeria, i delstaten nigeria, \"\n        ],\n        \"semantic_type\": \"\",\n        \"description\": \"\"\n      }\n    },\n    {\n      \"column\": \"Reference_summaries\",\n      \"properties\": {\n        \"dtype\": \"string\",\n        \"num_unique_values\": 49,\n        \"samples\": [\n          \"store norske leksikon,biologi,vitenskapsgrener i biologien,biokjemi,biokjemikere\",\n          \"store norske leksikon,historie,verdens historie og samtidshistorie,europa,montenegros historie,montenegros samtidshistorie\",\n          \"store norske leksikon,religion og filosofi,filosofiens fagdisipliner,metafysikk\"\n        ],\n        \"semantic_type\": \"\",\n        \"description\": \"\"\n      }\n    }\n  ]\n}"
            }
          },
          "metadata": {},
          "execution_count": 33
        }
      ],
      "source": [
        "import pandas as pd\n",
        "\n",
        "act_vs_pred_summaries_df = pd.DataFrame(list(zip(candidate_summaries, article_categories[:50])),\n",
        "                                        columns = [\"Predicted_Summaries\", \"Reference_summaries\"])\n",
        "act_vs_pred_summaries_df.head()"
      ]
    },
    {
      "cell_type": "code",
      "execution_count": 34,
      "metadata": {
        "colab": {
          "base_uri": "https://localhost:8080/"
        },
        "id": "Xk2a5El7tXZF",
        "outputId": "b0258e74-93cd-4cf3-94ed-a7abcfbce5b1"
      },
      "outputs": [
        {
          "output_type": "stream",
          "name": "stdout",
          "text": [
            "Actual Summary\n",
            "Brønnoperatør er en petroleumsoperatør som arbeider i petroleumsvirksomhet.\n",
            "Reference Summary\n",
            "store norske leksikon,samfunn,utdanning og forskning,grunnopplæring,yrkesfaglig utdanning,teknologi- og industrifag\n"
          ]
        }
      ],
      "source": [
        "print(\"Actual Summary\")\n",
        "print(act_vs_pred_summaries_df._get_value(20, \"Predicted_Summaries\"))\n",
        "\n",
        "print(\"Reference Summary\")\n",
        "print(act_vs_pred_summaries_df._get_value(20, \"Reference_summaries\"))"
      ]
    },
    {
      "cell_type": "code",
      "execution_count": 35,
      "metadata": {
        "colab": {
          "base_uri": "https://localhost:8080/"
        },
        "id": "nrorXL91taHd",
        "outputId": "b1ea1f87-bf9b-4b30-eb93-66eb3334875c"
      },
      "outputs": [
        {
          "output_type": "stream",
          "name": "stdout",
          "text": [
            "Actual Summary\n",
            "Bruce alden er en amerikansk jazzmusiker, komponist og komponist. Han er\n",
            "Reference Summary\n",
            "store norske leksikon,kunst og estetikk,musikk,jazz,nord-amerikanske jazzutøvere og -ensembler, 1980 til i dag\n"
          ]
        }
      ],
      "source": [
        "print(\"Actual Summary\")\n",
        "print(act_vs_pred_summaries_df._get_value(18, \"Predicted_Summaries\"))\n",
        "\n",
        "print(\"Reference Summary\")\n",
        "print(act_vs_pred_summaries_df._get_value(18, \"Reference_summaries\"))"
      ]
    },
    {
      "cell_type": "code",
      "execution_count": 36,
      "metadata": {
        "colab": {
          "base_uri": "https://localhost:8080/"
        },
        "id": "FVrCQqhcu1K4",
        "outputId": "25f1ebf4-ad85-4911-ee2b-d9d6b845942f"
      },
      "outputs": [
        {
          "output_type": "stream",
          "name": "stderr",
          "text": [
            "/usr/local/lib/python3.10/dist-packages/transformers/tokenization_utils_base.py:1601: FutureWarning: `clean_up_tokenization_spaces` was not set. It will be set to `True` by default. This behavior will be depracted in transformers v4.45, and will be then set to `False` by default. For more details check this issue: https://github.com/huggingface/transformers/issues/31884\n",
            "  warnings.warn(\n"
          ]
        }
      ],
      "source": [
        "from transformers import AutoTokenizer\n",
        "tokenizer = AutoTokenizer.from_pretrained(MODEL_NAME)"
      ]
    },
    {
      "cell_type": "code",
      "execution_count": 37,
      "metadata": {
        "colab": {
          "base_uri": "https://localhost:8080/"
        },
        "id": "CHuswQsStglU",
        "outputId": "e71bf938-a312-4c97-912b-58aef9dbe33b"
      },
      "outputs": [
        {
          "output_type": "execute_result",
          "data": {
            "text/plain": [
              "{'input_ids': [[9171, 264, 3315, 44446, 347, 69624, 1]], 'attention_mask': [[1, 1, 1, 1, 1, 1, 1]]}"
            ]
          },
          "metadata": {},
          "execution_count": 37
        }
      ],
      "source": [
        "tokenizer([\"four-time defending champion\"])"
      ]
    },
    {
      "cell_type": "code",
      "execution_count": 38,
      "metadata": {
        "colab": {
          "base_uri": "https://localhost:8080/"
        },
        "id": "jXiDc1Neti4p",
        "outputId": "bcdc5f37-2774-4af2-c7d5-899d5dbfcd13"
      },
      "outputs": [
        {
          "output_type": "execute_result",
          "data": {
            "text/plain": [
              "['▁four', '-', 'time', '▁defend', 'ing', '▁champion']"
            ]
          },
          "metadata": {},
          "execution_count": 38
        }
      ],
      "source": [
        "tokens = tokenizer.tokenize(\"four-time defending champion\")\n",
        "tokens\n"
      ]
    },
    {
      "cell_type": "code",
      "execution_count": 39,
      "metadata": {
        "colab": {
          "base_uri": "https://localhost:8080/"
        },
        "id": "5ZG2H5IOtlNr",
        "outputId": "37de90b3-cd1f-486f-86e2-ab7b716ce19e"
      },
      "outputs": [
        {
          "output_type": "execute_result",
          "data": {
            "text/plain": [
              "[9171, 264, 3315, 44446, 347, 69624]"
            ]
          },
          "metadata": {},
          "execution_count": 39
        }
      ],
      "source": [
        "ids = tokenizer.convert_tokens_to_ids(tokens)\n",
        "ids"
      ]
    },
    {
      "cell_type": "code",
      "execution_count": 40,
      "metadata": {
        "id": "cemnuFEhvZJi"
      },
      "outputs": [],
      "source": [
        "from transformers import AutoModelForSeq2SeqLM, Seq2SeqTrainingArguments, Seq2SeqTrainer\n",
        "\n",
        "model = AutoModelForSeq2SeqLM.from_pretrained(MODEL_NAME)"
      ]
    },
    {
      "cell_type": "code",
      "execution_count": 41,
      "metadata": {
        "id": "g22IBX6Atpk6"
      },
      "outputs": [],
      "source": [
        "prefix = \"summarize: \"\n",
        "\n",
        "\n",
        "def preprocess_function(examples):\n",
        "\n",
        "    inputs = [prefix + doc for doc in examples[\"category\"]]\n",
        "    model_inputs = tokenizer(inputs, max_length = 512, truncation = True)\n",
        "\n",
        "    labels = tokenizer(text_target = examples[\"article\"], max_length = 128, truncation = True)\n",
        "\n",
        "    model_inputs[\"labels\"] = labels[\"input_ids\"]\n",
        "\n",
        "    return model_inputs"
      ]
    },
    {
      "cell_type": "code",
      "execution_count": 42,
      "metadata": {
        "colab": {
          "base_uri": "https://localhost:8080/",
          "height": 223,
          "referenced_widgets": [
            "74805e046ab748b698df9f211756ad00",
            "0e83959b2d354068b6602b92eb42cef8",
            "c592fadeb9234e95b075fcf68b9bd2b3",
            "8a296fb58a0841fd86321a5afd6c781a",
            "65cca75c53c649a6826d5cca57035f8b",
            "30919aa2cd764533a2f154e149a6cf5a",
            "c304c430439b44f9968c7cd8677130b5",
            "96aa15c9e90c4ef5a7ef14a3557fe0d4",
            "c4d89f3483674c9aac1e3bc438cbae69",
            "d6dad0a7d1d3430b9d6c45e7c9f07db2",
            "99dc5395b6394197933da62e9028ba39"
          ]
        },
        "id": "6HAuP2eSvlsn",
        "outputId": "b6eb4f3d-9d8f-4499-9bb2-4bc5a335caa8"
      },
      "outputs": [
        {
          "output_type": "display_data",
          "data": {
            "text/plain": [
              "Map:   0%|          | 0/66 [00:00<?, ? examples/s]"
            ],
            "application/vnd.jupyter.widget-view+json": {
              "version_major": 2,
              "version_minor": 0,
              "model_id": "74805e046ab748b698df9f211756ad00"
            }
          },
          "metadata": {}
        },
        {
          "output_type": "execute_result",
          "data": {
            "text/plain": [
              "DatasetDict({\n",
              "    train: Dataset({\n",
              "        features: ['id', 'url', 'date_scraped', 'headline', 'category', 'ingress', 'article', 'input_ids', 'attention_mask', 'labels'],\n",
              "        num_rows: 260\n",
              "    })\n",
              "    test: Dataset({\n",
              "        features: ['id', 'url', 'date_scraped', 'headline', 'category', 'ingress', 'article', 'input_ids', 'attention_mask', 'labels'],\n",
              "        num_rows: 66\n",
              "    })\n",
              "})"
            ]
          },
          "metadata": {},
          "execution_count": 42
        }
      ],
      "source": [
        "tokenized_SNL_ds = cleaned_SNL_ds.map(preprocess_function, batched = True)\n",
        "\n",
        "tokenized_SNL_ds"
      ]
    },
    {
      "cell_type": "code",
      "execution_count": 43,
      "metadata": {
        "id": "3buBxwoIvp-g"
      },
      "outputs": [],
      "source": [
        "from transformers import DataCollatorForSeq2Seq\n",
        "data_collator = DataCollatorForSeq2Seq(tokenizer = tokenizer, model = MODEL_NAME)"
      ]
    },
    {
      "cell_type": "code",
      "execution_count": 44,
      "metadata": {
        "id": "Xh_nxhdKvuOv"
      },
      "outputs": [],
      "source": [
        "def compute_metrics(eval_pred):\n",
        "    predictions, labels = eval_pred\n",
        "    decoded_preds = tokenizer.batch_decode(predictions, skip_special_tokens = True)\n",
        "\n",
        "    labels = np.where(labels != -100, labels, tokenizer.pad_token_id)\n",
        "    decoded_labels = tokenizer.batch_decode(labels, skip_special_tokens = True)\n",
        "\n",
        "    result = rouge.compute(predictions = decoded_preds, references = decoded_labels, use_stemmer = True)\n",
        "\n",
        "    prediction_length = [np.count_nonzero(pred != tokenizer.pad_token_id) for pred in predictions]\n",
        "    result[\"generated_length\"] = np.mean(prediction_length)\n",
        "\n",
        "    return {k: round(v, 4) for k, v in result.items()}"
      ]
    },
    {
      "cell_type": "code",
      "source": [
        "from huggingface_hub import notebook_login\n",
        "notebook_login()"
      ],
      "metadata": {
        "colab": {
          "base_uri": "https://localhost:8080/",
          "height": 145,
          "referenced_widgets": [
            "b0a0d4aca01f479eb53587784b3434a8",
            "cf473a19e8f54a3287fb517d6b071120",
            "808eb8fdb13549f0aca8a617047d5dba",
            "07efc5088a4b4d52b617dc69407be2e7",
            "3a8bd18fbcb24a32864ff9ed8c70e535",
            "a1e55be8a77b4a63b0c5976bce6f9f59",
            "cb74b1a8f9c1419883976dccd0d5e5ef",
            "ee9e0f6b4acd4f22a7e6db21b65a6083",
            "7eb5a977e27947c482ec5501ff38f2bd",
            "631f1728d89a42d28c9fff557ca749a4",
            "24b1ba23dca645c9b3377139966fc089",
            "f6acde65b6e741ae9939ef68fc004d21",
            "e1bda9b16a944dce80d9e925898b0703",
            "0ad55fa37e8f4858b041779702d6e217",
            "bca1f66867f4451c9343a0cffbc7b066",
            "6553df2f08be4932b07f10f58678597a",
            "753ff0bdacf5413ea7d6cc70362f97c0",
            "2585781299104448bbb0c9bd07086f1b",
            "2fc5c298a36343f2ab9df9bba2768f18",
            "8d89a5ffafd14dff98d169d8173d5401",
            "51cd20b7f755427db3b6659197217893",
            "fa5dd75adfc449c894a1e622e1d2a457",
            "d16cfeecda2e4d39a288654be7d293b8",
            "9a9682be6fde4621bc28b34238de9598",
            "f0ba9e2999044fde9ae0e44c199a1b4b",
            "71cef638392a4b2cb24736645bf9b076",
            "553c36e627134c9c97d99e1fbf1dedc3",
            "2b426a716ee040c0969b1aa9f6596197",
            "2f96b892e4bc48e1b41c3f202ef697ae",
            "fa5a8069b2df4b6eb0ab4cafb09404b3",
            "53fbea154faf467795d9d1e33de3e49a",
            "51772bf1754d4b728ad8a500abaf76b0"
          ]
        },
        "id": "VZIR0dCdGxg3",
        "outputId": "cf6926de-2727-43ec-86e8-cf0be205ed26"
      },
      "execution_count": 45,
      "outputs": [
        {
          "output_type": "display_data",
          "data": {
            "text/plain": [
              "VBox(children=(HTML(value='<center> <img\\nsrc=https://huggingface.co/front/assets/huggingface_logo-noborder.sv…"
            ],
            "application/vnd.jupyter.widget-view+json": {
              "version_major": 2,
              "version_minor": 0,
              "model_id": "b0a0d4aca01f479eb53587784b3434a8"
            }
          },
          "metadata": {}
        }
      ]
    },
    {
      "cell_type": "code",
      "execution_count": null,
      "metadata": {
        "colab": {
          "base_uri": "https://localhost:8080/"
        },
        "id": "75xcUxjExrfN",
        "outputId": "9e874c2c-13c6-46ae-dcee-4efefa848cd9"
      },
      "outputs": [
        {
          "output_type": "stream",
          "name": "stderr",
          "text": [
            "/usr/local/lib/python3.10/dist-packages/transformers/training_args.py:1525: FutureWarning: `evaluation_strategy` is deprecated and will be removed in version 4.46 of 🤗 Transformers. Use `eval_strategy` instead\n",
            "  warnings.warn(\n"
          ]
        }
      ],
      "source": [
        "training_args = Seq2SeqTrainingArguments(\n",
        "    output_dir = \"Fine-Tuned-SNL-Summarization\",\n",
        "    evaluation_strategy = \"epoch\",\n",
        "    learning_rate = 2e-5,\n",
        "    per_device_train_batch_size = 16,\n",
        "    per_device_eval_batch_size = 16,\n",
        "    weight_decay = 0.01,\n",
        "    save_total_limit = 3,\n",
        "    num_train_epochs = 3,\n",
        "    predict_with_generate = True,\n",
        "    fp16 = True,\n",
        "    push_to_hub = True,\n",
        ")\n",
        "\n",
        "trainer = Seq2SeqTrainer(\n",
        "    model = model,\n",
        "    args = training_args,\n",
        "    train_dataset = tokenized_SNL_ds[\"train\"],\n",
        "    eval_dataset = tokenized_SNL_ds[\"test\"],\n",
        "    tokenizer = tokenizer,\n",
        "    data_collator = data_collator,\n",
        "    compute_metrics = compute_metrics,\n",
        ")\n",
        "\n",
        "trainer.train()"
      ]
    },
    {
      "cell_type": "code",
      "source": [
        "trainer.push_to_hub()"
      ],
      "metadata": {
        "id": "O_ciDCAuHGNN"
      },
      "execution_count": null,
      "outputs": []
    }
  ],
  "metadata": {
    "accelerator": "GPU",
    "colab": {
      "gpuType": "T4",
      "provenance": []
    },
    "kernelspec": {
      "display_name": "Python 3",
      "name": "python3"
    },
    "language_info": {
      "name": "python"
    },
    "widgets": {
      "application/vnd.jupyter.widget-state+json": {
        "9ac13b9745ba499bb51192b4aadbd28a": {
          "model_module": "@jupyter-widgets/controls",
          "model_name": "VBoxModel",
          "model_module_version": "1.5.0",
          "state": {
            "_dom_classes": [],
            "_model_module": "@jupyter-widgets/controls",
            "_model_module_version": "1.5.0",
            "_model_name": "VBoxModel",
            "_view_count": null,
            "_view_module": "@jupyter-widgets/controls",
            "_view_module_version": "1.5.0",
            "_view_name": "VBoxView",
            "box_style": "",
            "children": [
              "IPY_MODEL_eeb758eee79e45fe98e1a61afae54415",
              "IPY_MODEL_a933b334861742b7872fff80e43c94c2",
              "IPY_MODEL_d6ee95bb39534e859a4fa316d1767806",
              "IPY_MODEL_8ede7993d03042d8aacfbe4ecbecf6f1"
            ],
            "layout": "IPY_MODEL_e1efc22ee6c44411916472e49b0cd3f5"
          }
        },
        "3beeae622e3343189a62944d513a18a0": {
          "model_module": "@jupyter-widgets/controls",
          "model_name": "HTMLModel",
          "model_module_version": "1.5.0",
          "state": {
            "_dom_classes": [],
            "_model_module": "@jupyter-widgets/controls",
            "_model_module_version": "1.5.0",
            "_model_name": "HTMLModel",
            "_view_count": null,
            "_view_module": "@jupyter-widgets/controls",
            "_view_module_version": "1.5.0",
            "_view_name": "HTMLView",
            "description": "",
            "description_tooltip": null,
            "layout": "IPY_MODEL_dfb6a54c41b64d5980440e7b75601299",
            "placeholder": "​",
            "style": "IPY_MODEL_1b306191c8a84a828ffd3c3dfef858b7",
            "value": "<center> <img\nsrc=https://huggingface.co/front/assets/huggingface_logo-noborder.svg\nalt='Hugging Face'> <br> Copy a token from <a\nhref=\"https://huggingface.co/settings/tokens\" target=\"_blank\">your Hugging Face\ntokens page</a> and paste it below. <br> Immediately click login after copying\nyour token or it might be stored in plain text in this notebook file. </center>"
          }
        },
        "7d7eabe5dfbe4a728073c04edfdf3195": {
          "model_module": "@jupyter-widgets/controls",
          "model_name": "PasswordModel",
          "model_module_version": "1.5.0",
          "state": {
            "_dom_classes": [],
            "_model_module": "@jupyter-widgets/controls",
            "_model_module_version": "1.5.0",
            "_model_name": "PasswordModel",
            "_view_count": null,
            "_view_module": "@jupyter-widgets/controls",
            "_view_module_version": "1.5.0",
            "_view_name": "PasswordView",
            "continuous_update": true,
            "description": "Token:",
            "description_tooltip": null,
            "disabled": false,
            "layout": "IPY_MODEL_41c7c51972d944efbc04abf3cde601a5",
            "placeholder": "​",
            "style": "IPY_MODEL_995dd95b9f554411ad8fd5ee7d02a866",
            "value": ""
          }
        },
        "cb1abaf766c94a4baa77a4b4e9dfc5b7": {
          "model_module": "@jupyter-widgets/controls",
          "model_name": "CheckboxModel",
          "model_module_version": "1.5.0",
          "state": {
            "_dom_classes": [],
            "_model_module": "@jupyter-widgets/controls",
            "_model_module_version": "1.5.0",
            "_model_name": "CheckboxModel",
            "_view_count": null,
            "_view_module": "@jupyter-widgets/controls",
            "_view_module_version": "1.5.0",
            "_view_name": "CheckboxView",
            "description": "Add token as git credential?",
            "description_tooltip": null,
            "disabled": false,
            "indent": true,
            "layout": "IPY_MODEL_f4faf061b79d4f579dcfb5904053d49a",
            "style": "IPY_MODEL_d34fd114be6f4c7ebc2e50c3b70674f4",
            "value": true
          }
        },
        "531aa72e40b74263ae106009c8e390a5": {
          "model_module": "@jupyter-widgets/controls",
          "model_name": "ButtonModel",
          "model_module_version": "1.5.0",
          "state": {
            "_dom_classes": [],
            "_model_module": "@jupyter-widgets/controls",
            "_model_module_version": "1.5.0",
            "_model_name": "ButtonModel",
            "_view_count": null,
            "_view_module": "@jupyter-widgets/controls",
            "_view_module_version": "1.5.0",
            "_view_name": "ButtonView",
            "button_style": "",
            "description": "Login",
            "disabled": false,
            "icon": "",
            "layout": "IPY_MODEL_bfa47e353f744a7088929b0975f508c3",
            "style": "IPY_MODEL_988d69db637c48319d1f5746814841ff",
            "tooltip": ""
          }
        },
        "6525c35116d8457c97230b68469ca621": {
          "model_module": "@jupyter-widgets/controls",
          "model_name": "HTMLModel",
          "model_module_version": "1.5.0",
          "state": {
            "_dom_classes": [],
            "_model_module": "@jupyter-widgets/controls",
            "_model_module_version": "1.5.0",
            "_model_name": "HTMLModel",
            "_view_count": null,
            "_view_module": "@jupyter-widgets/controls",
            "_view_module_version": "1.5.0",
            "_view_name": "HTMLView",
            "description": "",
            "description_tooltip": null,
            "layout": "IPY_MODEL_871a50a1fb734316817a3067e74922ed",
            "placeholder": "​",
            "style": "IPY_MODEL_143b8349c3314661bb97a166a06450d2",
            "value": "\n<b>Pro Tip:</b> If you don't already have one, you can create a dedicated\n'notebooks' token with 'write' access, that you can then easily reuse for all\nnotebooks. </center>"
          }
        },
        "e1efc22ee6c44411916472e49b0cd3f5": {
          "model_module": "@jupyter-widgets/base",
          "model_name": "LayoutModel",
          "model_module_version": "1.2.0",
          "state": {
            "_model_module": "@jupyter-widgets/base",
            "_model_module_version": "1.2.0",
            "_model_name": "LayoutModel",
            "_view_count": null,
            "_view_module": "@jupyter-widgets/base",
            "_view_module_version": "1.2.0",
            "_view_name": "LayoutView",
            "align_content": null,
            "align_items": "center",
            "align_self": null,
            "border": null,
            "bottom": null,
            "display": "flex",
            "flex": null,
            "flex_flow": "column",
            "grid_area": null,
            "grid_auto_columns": null,
            "grid_auto_flow": null,
            "grid_auto_rows": null,
            "grid_column": null,
            "grid_gap": null,
            "grid_row": null,
            "grid_template_areas": null,
            "grid_template_columns": null,
            "grid_template_rows": null,
            "height": null,
            "justify_content": null,
            "justify_items": null,
            "left": null,
            "margin": null,
            "max_height": null,
            "max_width": null,
            "min_height": null,
            "min_width": null,
            "object_fit": null,
            "object_position": null,
            "order": null,
            "overflow": null,
            "overflow_x": null,
            "overflow_y": null,
            "padding": null,
            "right": null,
            "top": null,
            "visibility": null,
            "width": "50%"
          }
        },
        "dfb6a54c41b64d5980440e7b75601299": {
          "model_module": "@jupyter-widgets/base",
          "model_name": "LayoutModel",
          "model_module_version": "1.2.0",
          "state": {
            "_model_module": "@jupyter-widgets/base",
            "_model_module_version": "1.2.0",
            "_model_name": "LayoutModel",
            "_view_count": null,
            "_view_module": "@jupyter-widgets/base",
            "_view_module_version": "1.2.0",
            "_view_name": "LayoutView",
            "align_content": null,
            "align_items": null,
            "align_self": null,
            "border": null,
            "bottom": null,
            "display": null,
            "flex": null,
            "flex_flow": null,
            "grid_area": null,
            "grid_auto_columns": null,
            "grid_auto_flow": null,
            "grid_auto_rows": null,
            "grid_column": null,
            "grid_gap": null,
            "grid_row": null,
            "grid_template_areas": null,
            "grid_template_columns": null,
            "grid_template_rows": null,
            "height": null,
            "justify_content": null,
            "justify_items": null,
            "left": null,
            "margin": null,
            "max_height": null,
            "max_width": null,
            "min_height": null,
            "min_width": null,
            "object_fit": null,
            "object_position": null,
            "order": null,
            "overflow": null,
            "overflow_x": null,
            "overflow_y": null,
            "padding": null,
            "right": null,
            "top": null,
            "visibility": null,
            "width": null
          }
        },
        "1b306191c8a84a828ffd3c3dfef858b7": {
          "model_module": "@jupyter-widgets/controls",
          "model_name": "DescriptionStyleModel",
          "model_module_version": "1.5.0",
          "state": {
            "_model_module": "@jupyter-widgets/controls",
            "_model_module_version": "1.5.0",
            "_model_name": "DescriptionStyleModel",
            "_view_count": null,
            "_view_module": "@jupyter-widgets/base",
            "_view_module_version": "1.2.0",
            "_view_name": "StyleView",
            "description_width": ""
          }
        },
        "41c7c51972d944efbc04abf3cde601a5": {
          "model_module": "@jupyter-widgets/base",
          "model_name": "LayoutModel",
          "model_module_version": "1.2.0",
          "state": {
            "_model_module": "@jupyter-widgets/base",
            "_model_module_version": "1.2.0",
            "_model_name": "LayoutModel",
            "_view_count": null,
            "_view_module": "@jupyter-widgets/base",
            "_view_module_version": "1.2.0",
            "_view_name": "LayoutView",
            "align_content": null,
            "align_items": null,
            "align_self": null,
            "border": null,
            "bottom": null,
            "display": null,
            "flex": null,
            "flex_flow": null,
            "grid_area": null,
            "grid_auto_columns": null,
            "grid_auto_flow": null,
            "grid_auto_rows": null,
            "grid_column": null,
            "grid_gap": null,
            "grid_row": null,
            "grid_template_areas": null,
            "grid_template_columns": null,
            "grid_template_rows": null,
            "height": null,
            "justify_content": null,
            "justify_items": null,
            "left": null,
            "margin": null,
            "max_height": null,
            "max_width": null,
            "min_height": null,
            "min_width": null,
            "object_fit": null,
            "object_position": null,
            "order": null,
            "overflow": null,
            "overflow_x": null,
            "overflow_y": null,
            "padding": null,
            "right": null,
            "top": null,
            "visibility": null,
            "width": null
          }
        },
        "995dd95b9f554411ad8fd5ee7d02a866": {
          "model_module": "@jupyter-widgets/controls",
          "model_name": "DescriptionStyleModel",
          "model_module_version": "1.5.0",
          "state": {
            "_model_module": "@jupyter-widgets/controls",
            "_model_module_version": "1.5.0",
            "_model_name": "DescriptionStyleModel",
            "_view_count": null,
            "_view_module": "@jupyter-widgets/base",
            "_view_module_version": "1.2.0",
            "_view_name": "StyleView",
            "description_width": ""
          }
        },
        "f4faf061b79d4f579dcfb5904053d49a": {
          "model_module": "@jupyter-widgets/base",
          "model_name": "LayoutModel",
          "model_module_version": "1.2.0",
          "state": {
            "_model_module": "@jupyter-widgets/base",
            "_model_module_version": "1.2.0",
            "_model_name": "LayoutModel",
            "_view_count": null,
            "_view_module": "@jupyter-widgets/base",
            "_view_module_version": "1.2.0",
            "_view_name": "LayoutView",
            "align_content": null,
            "align_items": null,
            "align_self": null,
            "border": null,
            "bottom": null,
            "display": null,
            "flex": null,
            "flex_flow": null,
            "grid_area": null,
            "grid_auto_columns": null,
            "grid_auto_flow": null,
            "grid_auto_rows": null,
            "grid_column": null,
            "grid_gap": null,
            "grid_row": null,
            "grid_template_areas": null,
            "grid_template_columns": null,
            "grid_template_rows": null,
            "height": null,
            "justify_content": null,
            "justify_items": null,
            "left": null,
            "margin": null,
            "max_height": null,
            "max_width": null,
            "min_height": null,
            "min_width": null,
            "object_fit": null,
            "object_position": null,
            "order": null,
            "overflow": null,
            "overflow_x": null,
            "overflow_y": null,
            "padding": null,
            "right": null,
            "top": null,
            "visibility": null,
            "width": null
          }
        },
        "d34fd114be6f4c7ebc2e50c3b70674f4": {
          "model_module": "@jupyter-widgets/controls",
          "model_name": "DescriptionStyleModel",
          "model_module_version": "1.5.0",
          "state": {
            "_model_module": "@jupyter-widgets/controls",
            "_model_module_version": "1.5.0",
            "_model_name": "DescriptionStyleModel",
            "_view_count": null,
            "_view_module": "@jupyter-widgets/base",
            "_view_module_version": "1.2.0",
            "_view_name": "StyleView",
            "description_width": ""
          }
        },
        "bfa47e353f744a7088929b0975f508c3": {
          "model_module": "@jupyter-widgets/base",
          "model_name": "LayoutModel",
          "model_module_version": "1.2.0",
          "state": {
            "_model_module": "@jupyter-widgets/base",
            "_model_module_version": "1.2.0",
            "_model_name": "LayoutModel",
            "_view_count": null,
            "_view_module": "@jupyter-widgets/base",
            "_view_module_version": "1.2.0",
            "_view_name": "LayoutView",
            "align_content": null,
            "align_items": null,
            "align_self": null,
            "border": null,
            "bottom": null,
            "display": null,
            "flex": null,
            "flex_flow": null,
            "grid_area": null,
            "grid_auto_columns": null,
            "grid_auto_flow": null,
            "grid_auto_rows": null,
            "grid_column": null,
            "grid_gap": null,
            "grid_row": null,
            "grid_template_areas": null,
            "grid_template_columns": null,
            "grid_template_rows": null,
            "height": null,
            "justify_content": null,
            "justify_items": null,
            "left": null,
            "margin": null,
            "max_height": null,
            "max_width": null,
            "min_height": null,
            "min_width": null,
            "object_fit": null,
            "object_position": null,
            "order": null,
            "overflow": null,
            "overflow_x": null,
            "overflow_y": null,
            "padding": null,
            "right": null,
            "top": null,
            "visibility": null,
            "width": null
          }
        },
        "988d69db637c48319d1f5746814841ff": {
          "model_module": "@jupyter-widgets/controls",
          "model_name": "ButtonStyleModel",
          "model_module_version": "1.5.0",
          "state": {
            "_model_module": "@jupyter-widgets/controls",
            "_model_module_version": "1.5.0",
            "_model_name": "ButtonStyleModel",
            "_view_count": null,
            "_view_module": "@jupyter-widgets/base",
            "_view_module_version": "1.2.0",
            "_view_name": "StyleView",
            "button_color": null,
            "font_weight": ""
          }
        },
        "871a50a1fb734316817a3067e74922ed": {
          "model_module": "@jupyter-widgets/base",
          "model_name": "LayoutModel",
          "model_module_version": "1.2.0",
          "state": {
            "_model_module": "@jupyter-widgets/base",
            "_model_module_version": "1.2.0",
            "_model_name": "LayoutModel",
            "_view_count": null,
            "_view_module": "@jupyter-widgets/base",
            "_view_module_version": "1.2.0",
            "_view_name": "LayoutView",
            "align_content": null,
            "align_items": null,
            "align_self": null,
            "border": null,
            "bottom": null,
            "display": null,
            "flex": null,
            "flex_flow": null,
            "grid_area": null,
            "grid_auto_columns": null,
            "grid_auto_flow": null,
            "grid_auto_rows": null,
            "grid_column": null,
            "grid_gap": null,
            "grid_row": null,
            "grid_template_areas": null,
            "grid_template_columns": null,
            "grid_template_rows": null,
            "height": null,
            "justify_content": null,
            "justify_items": null,
            "left": null,
            "margin": null,
            "max_height": null,
            "max_width": null,
            "min_height": null,
            "min_width": null,
            "object_fit": null,
            "object_position": null,
            "order": null,
            "overflow": null,
            "overflow_x": null,
            "overflow_y": null,
            "padding": null,
            "right": null,
            "top": null,
            "visibility": null,
            "width": null
          }
        },
        "143b8349c3314661bb97a166a06450d2": {
          "model_module": "@jupyter-widgets/controls",
          "model_name": "DescriptionStyleModel",
          "model_module_version": "1.5.0",
          "state": {
            "_model_module": "@jupyter-widgets/controls",
            "_model_module_version": "1.5.0",
            "_model_name": "DescriptionStyleModel",
            "_view_count": null,
            "_view_module": "@jupyter-widgets/base",
            "_view_module_version": "1.2.0",
            "_view_name": "StyleView",
            "description_width": ""
          }
        },
        "141aa66c4e1341dca7a4ecd5279f70c9": {
          "model_module": "@jupyter-widgets/controls",
          "model_name": "LabelModel",
          "model_module_version": "1.5.0",
          "state": {
            "_dom_classes": [],
            "_model_module": "@jupyter-widgets/controls",
            "_model_module_version": "1.5.0",
            "_model_name": "LabelModel",
            "_view_count": null,
            "_view_module": "@jupyter-widgets/controls",
            "_view_module_version": "1.5.0",
            "_view_name": "LabelView",
            "description": "",
            "description_tooltip": null,
            "layout": "IPY_MODEL_15d85c0ab3c74af7aef1c01d8d32b7cc",
            "placeholder": "​",
            "style": "IPY_MODEL_071ae0c988a3487fa3deeaf8d90a6c1a",
            "value": "Connecting..."
          }
        },
        "15d85c0ab3c74af7aef1c01d8d32b7cc": {
          "model_module": "@jupyter-widgets/base",
          "model_name": "LayoutModel",
          "model_module_version": "1.2.0",
          "state": {
            "_model_module": "@jupyter-widgets/base",
            "_model_module_version": "1.2.0",
            "_model_name": "LayoutModel",
            "_view_count": null,
            "_view_module": "@jupyter-widgets/base",
            "_view_module_version": "1.2.0",
            "_view_name": "LayoutView",
            "align_content": null,
            "align_items": null,
            "align_self": null,
            "border": null,
            "bottom": null,
            "display": null,
            "flex": null,
            "flex_flow": null,
            "grid_area": null,
            "grid_auto_columns": null,
            "grid_auto_flow": null,
            "grid_auto_rows": null,
            "grid_column": null,
            "grid_gap": null,
            "grid_row": null,
            "grid_template_areas": null,
            "grid_template_columns": null,
            "grid_template_rows": null,
            "height": null,
            "justify_content": null,
            "justify_items": null,
            "left": null,
            "margin": null,
            "max_height": null,
            "max_width": null,
            "min_height": null,
            "min_width": null,
            "object_fit": null,
            "object_position": null,
            "order": null,
            "overflow": null,
            "overflow_x": null,
            "overflow_y": null,
            "padding": null,
            "right": null,
            "top": null,
            "visibility": null,
            "width": null
          }
        },
        "071ae0c988a3487fa3deeaf8d90a6c1a": {
          "model_module": "@jupyter-widgets/controls",
          "model_name": "DescriptionStyleModel",
          "model_module_version": "1.5.0",
          "state": {
            "_model_module": "@jupyter-widgets/controls",
            "_model_module_version": "1.5.0",
            "_model_name": "DescriptionStyleModel",
            "_view_count": null,
            "_view_module": "@jupyter-widgets/base",
            "_view_module_version": "1.2.0",
            "_view_name": "StyleView",
            "description_width": ""
          }
        },
        "eeb758eee79e45fe98e1a61afae54415": {
          "model_module": "@jupyter-widgets/controls",
          "model_name": "LabelModel",
          "model_module_version": "1.5.0",
          "state": {
            "_dom_classes": [],
            "_model_module": "@jupyter-widgets/controls",
            "_model_module_version": "1.5.0",
            "_model_name": "LabelModel",
            "_view_count": null,
            "_view_module": "@jupyter-widgets/controls",
            "_view_module_version": "1.5.0",
            "_view_name": "LabelView",
            "description": "",
            "description_tooltip": null,
            "layout": "IPY_MODEL_959081dc783b4307a877ecd905b49602",
            "placeholder": "​",
            "style": "IPY_MODEL_162e585b5794407192bac60b8c6c1f99",
            "value": "Token is valid (permission: read)."
          }
        },
        "a933b334861742b7872fff80e43c94c2": {
          "model_module": "@jupyter-widgets/controls",
          "model_name": "LabelModel",
          "model_module_version": "1.5.0",
          "state": {
            "_dom_classes": [],
            "_model_module": "@jupyter-widgets/controls",
            "_model_module_version": "1.5.0",
            "_model_name": "LabelModel",
            "_view_count": null,
            "_view_module": "@jupyter-widgets/controls",
            "_view_module_version": "1.5.0",
            "_view_name": "LabelView",
            "description": "",
            "description_tooltip": null,
            "layout": "IPY_MODEL_3c0ec12b7a444afb91a9fb56e728de27",
            "placeholder": "​",
            "style": "IPY_MODEL_3756de16cfa14f4c8ec2ba2941039965",
            "value": "Your token has been saved in your configured git credential helpers (store)."
          }
        },
        "d6ee95bb39534e859a4fa316d1767806": {
          "model_module": "@jupyter-widgets/controls",
          "model_name": "LabelModel",
          "model_module_version": "1.5.0",
          "state": {
            "_dom_classes": [],
            "_model_module": "@jupyter-widgets/controls",
            "_model_module_version": "1.5.0",
            "_model_name": "LabelModel",
            "_view_count": null,
            "_view_module": "@jupyter-widgets/controls",
            "_view_module_version": "1.5.0",
            "_view_name": "LabelView",
            "description": "",
            "description_tooltip": null,
            "layout": "IPY_MODEL_6e8330ae04084671acfddf7e7ba90306",
            "placeholder": "​",
            "style": "IPY_MODEL_a45ff624ceb141b7afcde224deb843d2",
            "value": "Your token has been saved to /root/.cache/huggingface/token"
          }
        },
        "8ede7993d03042d8aacfbe4ecbecf6f1": {
          "model_module": "@jupyter-widgets/controls",
          "model_name": "LabelModel",
          "model_module_version": "1.5.0",
          "state": {
            "_dom_classes": [],
            "_model_module": "@jupyter-widgets/controls",
            "_model_module_version": "1.5.0",
            "_model_name": "LabelModel",
            "_view_count": null,
            "_view_module": "@jupyter-widgets/controls",
            "_view_module_version": "1.5.0",
            "_view_name": "LabelView",
            "description": "",
            "description_tooltip": null,
            "layout": "IPY_MODEL_3beddba0fc0f4a6ab6f1e62b9821378a",
            "placeholder": "​",
            "style": "IPY_MODEL_47b3062cd7a44324b6b58d404eee931f",
            "value": "Login successful"
          }
        },
        "959081dc783b4307a877ecd905b49602": {
          "model_module": "@jupyter-widgets/base",
          "model_name": "LayoutModel",
          "model_module_version": "1.2.0",
          "state": {
            "_model_module": "@jupyter-widgets/base",
            "_model_module_version": "1.2.0",
            "_model_name": "LayoutModel",
            "_view_count": null,
            "_view_module": "@jupyter-widgets/base",
            "_view_module_version": "1.2.0",
            "_view_name": "LayoutView",
            "align_content": null,
            "align_items": null,
            "align_self": null,
            "border": null,
            "bottom": null,
            "display": null,
            "flex": null,
            "flex_flow": null,
            "grid_area": null,
            "grid_auto_columns": null,
            "grid_auto_flow": null,
            "grid_auto_rows": null,
            "grid_column": null,
            "grid_gap": null,
            "grid_row": null,
            "grid_template_areas": null,
            "grid_template_columns": null,
            "grid_template_rows": null,
            "height": null,
            "justify_content": null,
            "justify_items": null,
            "left": null,
            "margin": null,
            "max_height": null,
            "max_width": null,
            "min_height": null,
            "min_width": null,
            "object_fit": null,
            "object_position": null,
            "order": null,
            "overflow": null,
            "overflow_x": null,
            "overflow_y": null,
            "padding": null,
            "right": null,
            "top": null,
            "visibility": null,
            "width": null
          }
        },
        "162e585b5794407192bac60b8c6c1f99": {
          "model_module": "@jupyter-widgets/controls",
          "model_name": "DescriptionStyleModel",
          "model_module_version": "1.5.0",
          "state": {
            "_model_module": "@jupyter-widgets/controls",
            "_model_module_version": "1.5.0",
            "_model_name": "DescriptionStyleModel",
            "_view_count": null,
            "_view_module": "@jupyter-widgets/base",
            "_view_module_version": "1.2.0",
            "_view_name": "StyleView",
            "description_width": ""
          }
        },
        "3c0ec12b7a444afb91a9fb56e728de27": {
          "model_module": "@jupyter-widgets/base",
          "model_name": "LayoutModel",
          "model_module_version": "1.2.0",
          "state": {
            "_model_module": "@jupyter-widgets/base",
            "_model_module_version": "1.2.0",
            "_model_name": "LayoutModel",
            "_view_count": null,
            "_view_module": "@jupyter-widgets/base",
            "_view_module_version": "1.2.0",
            "_view_name": "LayoutView",
            "align_content": null,
            "align_items": null,
            "align_self": null,
            "border": null,
            "bottom": null,
            "display": null,
            "flex": null,
            "flex_flow": null,
            "grid_area": null,
            "grid_auto_columns": null,
            "grid_auto_flow": null,
            "grid_auto_rows": null,
            "grid_column": null,
            "grid_gap": null,
            "grid_row": null,
            "grid_template_areas": null,
            "grid_template_columns": null,
            "grid_template_rows": null,
            "height": null,
            "justify_content": null,
            "justify_items": null,
            "left": null,
            "margin": null,
            "max_height": null,
            "max_width": null,
            "min_height": null,
            "min_width": null,
            "object_fit": null,
            "object_position": null,
            "order": null,
            "overflow": null,
            "overflow_x": null,
            "overflow_y": null,
            "padding": null,
            "right": null,
            "top": null,
            "visibility": null,
            "width": null
          }
        },
        "3756de16cfa14f4c8ec2ba2941039965": {
          "model_module": "@jupyter-widgets/controls",
          "model_name": "DescriptionStyleModel",
          "model_module_version": "1.5.0",
          "state": {
            "_model_module": "@jupyter-widgets/controls",
            "_model_module_version": "1.5.0",
            "_model_name": "DescriptionStyleModel",
            "_view_count": null,
            "_view_module": "@jupyter-widgets/base",
            "_view_module_version": "1.2.0",
            "_view_name": "StyleView",
            "description_width": ""
          }
        },
        "6e8330ae04084671acfddf7e7ba90306": {
          "model_module": "@jupyter-widgets/base",
          "model_name": "LayoutModel",
          "model_module_version": "1.2.0",
          "state": {
            "_model_module": "@jupyter-widgets/base",
            "_model_module_version": "1.2.0",
            "_model_name": "LayoutModel",
            "_view_count": null,
            "_view_module": "@jupyter-widgets/base",
            "_view_module_version": "1.2.0",
            "_view_name": "LayoutView",
            "align_content": null,
            "align_items": null,
            "align_self": null,
            "border": null,
            "bottom": null,
            "display": null,
            "flex": null,
            "flex_flow": null,
            "grid_area": null,
            "grid_auto_columns": null,
            "grid_auto_flow": null,
            "grid_auto_rows": null,
            "grid_column": null,
            "grid_gap": null,
            "grid_row": null,
            "grid_template_areas": null,
            "grid_template_columns": null,
            "grid_template_rows": null,
            "height": null,
            "justify_content": null,
            "justify_items": null,
            "left": null,
            "margin": null,
            "max_height": null,
            "max_width": null,
            "min_height": null,
            "min_width": null,
            "object_fit": null,
            "object_position": null,
            "order": null,
            "overflow": null,
            "overflow_x": null,
            "overflow_y": null,
            "padding": null,
            "right": null,
            "top": null,
            "visibility": null,
            "width": null
          }
        },
        "a45ff624ceb141b7afcde224deb843d2": {
          "model_module": "@jupyter-widgets/controls",
          "model_name": "DescriptionStyleModel",
          "model_module_version": "1.5.0",
          "state": {
            "_model_module": "@jupyter-widgets/controls",
            "_model_module_version": "1.5.0",
            "_model_name": "DescriptionStyleModel",
            "_view_count": null,
            "_view_module": "@jupyter-widgets/base",
            "_view_module_version": "1.2.0",
            "_view_name": "StyleView",
            "description_width": ""
          }
        },
        "3beddba0fc0f4a6ab6f1e62b9821378a": {
          "model_module": "@jupyter-widgets/base",
          "model_name": "LayoutModel",
          "model_module_version": "1.2.0",
          "state": {
            "_model_module": "@jupyter-widgets/base",
            "_model_module_version": "1.2.0",
            "_model_name": "LayoutModel",
            "_view_count": null,
            "_view_module": "@jupyter-widgets/base",
            "_view_module_version": "1.2.0",
            "_view_name": "LayoutView",
            "align_content": null,
            "align_items": null,
            "align_self": null,
            "border": null,
            "bottom": null,
            "display": null,
            "flex": null,
            "flex_flow": null,
            "grid_area": null,
            "grid_auto_columns": null,
            "grid_auto_flow": null,
            "grid_auto_rows": null,
            "grid_column": null,
            "grid_gap": null,
            "grid_row": null,
            "grid_template_areas": null,
            "grid_template_columns": null,
            "grid_template_rows": null,
            "height": null,
            "justify_content": null,
            "justify_items": null,
            "left": null,
            "margin": null,
            "max_height": null,
            "max_width": null,
            "min_height": null,
            "min_width": null,
            "object_fit": null,
            "object_position": null,
            "order": null,
            "overflow": null,
            "overflow_x": null,
            "overflow_y": null,
            "padding": null,
            "right": null,
            "top": null,
            "visibility": null,
            "width": null
          }
        },
        "47b3062cd7a44324b6b58d404eee931f": {
          "model_module": "@jupyter-widgets/controls",
          "model_name": "DescriptionStyleModel",
          "model_module_version": "1.5.0",
          "state": {
            "_model_module": "@jupyter-widgets/controls",
            "_model_module_version": "1.5.0",
            "_model_name": "DescriptionStyleModel",
            "_view_count": null,
            "_view_module": "@jupyter-widgets/base",
            "_view_module_version": "1.2.0",
            "_view_name": "StyleView",
            "description_width": ""
          }
        },
        "74805e046ab748b698df9f211756ad00": {
          "model_module": "@jupyter-widgets/controls",
          "model_name": "HBoxModel",
          "model_module_version": "1.5.0",
          "state": {
            "_dom_classes": [],
            "_model_module": "@jupyter-widgets/controls",
            "_model_module_version": "1.5.0",
            "_model_name": "HBoxModel",
            "_view_count": null,
            "_view_module": "@jupyter-widgets/controls",
            "_view_module_version": "1.5.0",
            "_view_name": "HBoxView",
            "box_style": "",
            "children": [
              "IPY_MODEL_0e83959b2d354068b6602b92eb42cef8",
              "IPY_MODEL_c592fadeb9234e95b075fcf68b9bd2b3",
              "IPY_MODEL_8a296fb58a0841fd86321a5afd6c781a"
            ],
            "layout": "IPY_MODEL_65cca75c53c649a6826d5cca57035f8b"
          }
        },
        "0e83959b2d354068b6602b92eb42cef8": {
          "model_module": "@jupyter-widgets/controls",
          "model_name": "HTMLModel",
          "model_module_version": "1.5.0",
          "state": {
            "_dom_classes": [],
            "_model_module": "@jupyter-widgets/controls",
            "_model_module_version": "1.5.0",
            "_model_name": "HTMLModel",
            "_view_count": null,
            "_view_module": "@jupyter-widgets/controls",
            "_view_module_version": "1.5.0",
            "_view_name": "HTMLView",
            "description": "",
            "description_tooltip": null,
            "layout": "IPY_MODEL_30919aa2cd764533a2f154e149a6cf5a",
            "placeholder": "​",
            "style": "IPY_MODEL_c304c430439b44f9968c7cd8677130b5",
            "value": "Map: 100%"
          }
        },
        "c592fadeb9234e95b075fcf68b9bd2b3": {
          "model_module": "@jupyter-widgets/controls",
          "model_name": "FloatProgressModel",
          "model_module_version": "1.5.0",
          "state": {
            "_dom_classes": [],
            "_model_module": "@jupyter-widgets/controls",
            "_model_module_version": "1.5.0",
            "_model_name": "FloatProgressModel",
            "_view_count": null,
            "_view_module": "@jupyter-widgets/controls",
            "_view_module_version": "1.5.0",
            "_view_name": "ProgressView",
            "bar_style": "success",
            "description": "",
            "description_tooltip": null,
            "layout": "IPY_MODEL_96aa15c9e90c4ef5a7ef14a3557fe0d4",
            "max": 66,
            "min": 0,
            "orientation": "horizontal",
            "style": "IPY_MODEL_c4d89f3483674c9aac1e3bc438cbae69",
            "value": 66
          }
        },
        "8a296fb58a0841fd86321a5afd6c781a": {
          "model_module": "@jupyter-widgets/controls",
          "model_name": "HTMLModel",
          "model_module_version": "1.5.0",
          "state": {
            "_dom_classes": [],
            "_model_module": "@jupyter-widgets/controls",
            "_model_module_version": "1.5.0",
            "_model_name": "HTMLModel",
            "_view_count": null,
            "_view_module": "@jupyter-widgets/controls",
            "_view_module_version": "1.5.0",
            "_view_name": "HTMLView",
            "description": "",
            "description_tooltip": null,
            "layout": "IPY_MODEL_d6dad0a7d1d3430b9d6c45e7c9f07db2",
            "placeholder": "​",
            "style": "IPY_MODEL_99dc5395b6394197933da62e9028ba39",
            "value": " 66/66 [00:00&lt;00:00, 400.46 examples/s]"
          }
        },
        "65cca75c53c649a6826d5cca57035f8b": {
          "model_module": "@jupyter-widgets/base",
          "model_name": "LayoutModel",
          "model_module_version": "1.2.0",
          "state": {
            "_model_module": "@jupyter-widgets/base",
            "_model_module_version": "1.2.0",
            "_model_name": "LayoutModel",
            "_view_count": null,
            "_view_module": "@jupyter-widgets/base",
            "_view_module_version": "1.2.0",
            "_view_name": "LayoutView",
            "align_content": null,
            "align_items": null,
            "align_self": null,
            "border": null,
            "bottom": null,
            "display": null,
            "flex": null,
            "flex_flow": null,
            "grid_area": null,
            "grid_auto_columns": null,
            "grid_auto_flow": null,
            "grid_auto_rows": null,
            "grid_column": null,
            "grid_gap": null,
            "grid_row": null,
            "grid_template_areas": null,
            "grid_template_columns": null,
            "grid_template_rows": null,
            "height": null,
            "justify_content": null,
            "justify_items": null,
            "left": null,
            "margin": null,
            "max_height": null,
            "max_width": null,
            "min_height": null,
            "min_width": null,
            "object_fit": null,
            "object_position": null,
            "order": null,
            "overflow": null,
            "overflow_x": null,
            "overflow_y": null,
            "padding": null,
            "right": null,
            "top": null,
            "visibility": null,
            "width": null
          }
        },
        "30919aa2cd764533a2f154e149a6cf5a": {
          "model_module": "@jupyter-widgets/base",
          "model_name": "LayoutModel",
          "model_module_version": "1.2.0",
          "state": {
            "_model_module": "@jupyter-widgets/base",
            "_model_module_version": "1.2.0",
            "_model_name": "LayoutModel",
            "_view_count": null,
            "_view_module": "@jupyter-widgets/base",
            "_view_module_version": "1.2.0",
            "_view_name": "LayoutView",
            "align_content": null,
            "align_items": null,
            "align_self": null,
            "border": null,
            "bottom": null,
            "display": null,
            "flex": null,
            "flex_flow": null,
            "grid_area": null,
            "grid_auto_columns": null,
            "grid_auto_flow": null,
            "grid_auto_rows": null,
            "grid_column": null,
            "grid_gap": null,
            "grid_row": null,
            "grid_template_areas": null,
            "grid_template_columns": null,
            "grid_template_rows": null,
            "height": null,
            "justify_content": null,
            "justify_items": null,
            "left": null,
            "margin": null,
            "max_height": null,
            "max_width": null,
            "min_height": null,
            "min_width": null,
            "object_fit": null,
            "object_position": null,
            "order": null,
            "overflow": null,
            "overflow_x": null,
            "overflow_y": null,
            "padding": null,
            "right": null,
            "top": null,
            "visibility": null,
            "width": null
          }
        },
        "c304c430439b44f9968c7cd8677130b5": {
          "model_module": "@jupyter-widgets/controls",
          "model_name": "DescriptionStyleModel",
          "model_module_version": "1.5.0",
          "state": {
            "_model_module": "@jupyter-widgets/controls",
            "_model_module_version": "1.5.0",
            "_model_name": "DescriptionStyleModel",
            "_view_count": null,
            "_view_module": "@jupyter-widgets/base",
            "_view_module_version": "1.2.0",
            "_view_name": "StyleView",
            "description_width": ""
          }
        },
        "96aa15c9e90c4ef5a7ef14a3557fe0d4": {
          "model_module": "@jupyter-widgets/base",
          "model_name": "LayoutModel",
          "model_module_version": "1.2.0",
          "state": {
            "_model_module": "@jupyter-widgets/base",
            "_model_module_version": "1.2.0",
            "_model_name": "LayoutModel",
            "_view_count": null,
            "_view_module": "@jupyter-widgets/base",
            "_view_module_version": "1.2.0",
            "_view_name": "LayoutView",
            "align_content": null,
            "align_items": null,
            "align_self": null,
            "border": null,
            "bottom": null,
            "display": null,
            "flex": null,
            "flex_flow": null,
            "grid_area": null,
            "grid_auto_columns": null,
            "grid_auto_flow": null,
            "grid_auto_rows": null,
            "grid_column": null,
            "grid_gap": null,
            "grid_row": null,
            "grid_template_areas": null,
            "grid_template_columns": null,
            "grid_template_rows": null,
            "height": null,
            "justify_content": null,
            "justify_items": null,
            "left": null,
            "margin": null,
            "max_height": null,
            "max_width": null,
            "min_height": null,
            "min_width": null,
            "object_fit": null,
            "object_position": null,
            "order": null,
            "overflow": null,
            "overflow_x": null,
            "overflow_y": null,
            "padding": null,
            "right": null,
            "top": null,
            "visibility": null,
            "width": null
          }
        },
        "c4d89f3483674c9aac1e3bc438cbae69": {
          "model_module": "@jupyter-widgets/controls",
          "model_name": "ProgressStyleModel",
          "model_module_version": "1.5.0",
          "state": {
            "_model_module": "@jupyter-widgets/controls",
            "_model_module_version": "1.5.0",
            "_model_name": "ProgressStyleModel",
            "_view_count": null,
            "_view_module": "@jupyter-widgets/base",
            "_view_module_version": "1.2.0",
            "_view_name": "StyleView",
            "bar_color": null,
            "description_width": ""
          }
        },
        "d6dad0a7d1d3430b9d6c45e7c9f07db2": {
          "model_module": "@jupyter-widgets/base",
          "model_name": "LayoutModel",
          "model_module_version": "1.2.0",
          "state": {
            "_model_module": "@jupyter-widgets/base",
            "_model_module_version": "1.2.0",
            "_model_name": "LayoutModel",
            "_view_count": null,
            "_view_module": "@jupyter-widgets/base",
            "_view_module_version": "1.2.0",
            "_view_name": "LayoutView",
            "align_content": null,
            "align_items": null,
            "align_self": null,
            "border": null,
            "bottom": null,
            "display": null,
            "flex": null,
            "flex_flow": null,
            "grid_area": null,
            "grid_auto_columns": null,
            "grid_auto_flow": null,
            "grid_auto_rows": null,
            "grid_column": null,
            "grid_gap": null,
            "grid_row": null,
            "grid_template_areas": null,
            "grid_template_columns": null,
            "grid_template_rows": null,
            "height": null,
            "justify_content": null,
            "justify_items": null,
            "left": null,
            "margin": null,
            "max_height": null,
            "max_width": null,
            "min_height": null,
            "min_width": null,
            "object_fit": null,
            "object_position": null,
            "order": null,
            "overflow": null,
            "overflow_x": null,
            "overflow_y": null,
            "padding": null,
            "right": null,
            "top": null,
            "visibility": null,
            "width": null
          }
        },
        "99dc5395b6394197933da62e9028ba39": {
          "model_module": "@jupyter-widgets/controls",
          "model_name": "DescriptionStyleModel",
          "model_module_version": "1.5.0",
          "state": {
            "_model_module": "@jupyter-widgets/controls",
            "_model_module_version": "1.5.0",
            "_model_name": "DescriptionStyleModel",
            "_view_count": null,
            "_view_module": "@jupyter-widgets/base",
            "_view_module_version": "1.2.0",
            "_view_name": "StyleView",
            "description_width": ""
          }
        },
        "b0a0d4aca01f479eb53587784b3434a8": {
          "model_module": "@jupyter-widgets/controls",
          "model_name": "VBoxModel",
          "model_module_version": "1.5.0",
          "state": {
            "_dom_classes": [],
            "_model_module": "@jupyter-widgets/controls",
            "_model_module_version": "1.5.0",
            "_model_name": "VBoxModel",
            "_view_count": null,
            "_view_module": "@jupyter-widgets/controls",
            "_view_module_version": "1.5.0",
            "_view_name": "VBoxView",
            "box_style": "",
            "children": [
              "IPY_MODEL_51cd20b7f755427db3b6659197217893",
              "IPY_MODEL_fa5dd75adfc449c894a1e622e1d2a457",
              "IPY_MODEL_d16cfeecda2e4d39a288654be7d293b8",
              "IPY_MODEL_9a9682be6fde4621bc28b34238de9598"
            ],
            "layout": "IPY_MODEL_cb74b1a8f9c1419883976dccd0d5e5ef"
          }
        },
        "cf473a19e8f54a3287fb517d6b071120": {
          "model_module": "@jupyter-widgets/controls",
          "model_name": "HTMLModel",
          "model_module_version": "1.5.0",
          "state": {
            "_dom_classes": [],
            "_model_module": "@jupyter-widgets/controls",
            "_model_module_version": "1.5.0",
            "_model_name": "HTMLModel",
            "_view_count": null,
            "_view_module": "@jupyter-widgets/controls",
            "_view_module_version": "1.5.0",
            "_view_name": "HTMLView",
            "description": "",
            "description_tooltip": null,
            "layout": "IPY_MODEL_ee9e0f6b4acd4f22a7e6db21b65a6083",
            "placeholder": "​",
            "style": "IPY_MODEL_7eb5a977e27947c482ec5501ff38f2bd",
            "value": "<center> <img\nsrc=https://huggingface.co/front/assets/huggingface_logo-noborder.svg\nalt='Hugging Face'> <br> Copy a token from <a\nhref=\"https://huggingface.co/settings/tokens\" target=\"_blank\">your Hugging Face\ntokens page</a> and paste it below. <br> Immediately click login after copying\nyour token or it might be stored in plain text in this notebook file. </center>"
          }
        },
        "808eb8fdb13549f0aca8a617047d5dba": {
          "model_module": "@jupyter-widgets/controls",
          "model_name": "PasswordModel",
          "model_module_version": "1.5.0",
          "state": {
            "_dom_classes": [],
            "_model_module": "@jupyter-widgets/controls",
            "_model_module_version": "1.5.0",
            "_model_name": "PasswordModel",
            "_view_count": null,
            "_view_module": "@jupyter-widgets/controls",
            "_view_module_version": "1.5.0",
            "_view_name": "PasswordView",
            "continuous_update": true,
            "description": "Token:",
            "description_tooltip": null,
            "disabled": false,
            "layout": "IPY_MODEL_631f1728d89a42d28c9fff557ca749a4",
            "placeholder": "​",
            "style": "IPY_MODEL_24b1ba23dca645c9b3377139966fc089",
            "value": ""
          }
        },
        "07efc5088a4b4d52b617dc69407be2e7": {
          "model_module": "@jupyter-widgets/controls",
          "model_name": "CheckboxModel",
          "model_module_version": "1.5.0",
          "state": {
            "_dom_classes": [],
            "_model_module": "@jupyter-widgets/controls",
            "_model_module_version": "1.5.0",
            "_model_name": "CheckboxModel",
            "_view_count": null,
            "_view_module": "@jupyter-widgets/controls",
            "_view_module_version": "1.5.0",
            "_view_name": "CheckboxView",
            "description": "Add token as git credential?",
            "description_tooltip": null,
            "disabled": false,
            "indent": true,
            "layout": "IPY_MODEL_f6acde65b6e741ae9939ef68fc004d21",
            "style": "IPY_MODEL_e1bda9b16a944dce80d9e925898b0703",
            "value": true
          }
        },
        "3a8bd18fbcb24a32864ff9ed8c70e535": {
          "model_module": "@jupyter-widgets/controls",
          "model_name": "ButtonModel",
          "model_module_version": "1.5.0",
          "state": {
            "_dom_classes": [],
            "_model_module": "@jupyter-widgets/controls",
            "_model_module_version": "1.5.0",
            "_model_name": "ButtonModel",
            "_view_count": null,
            "_view_module": "@jupyter-widgets/controls",
            "_view_module_version": "1.5.0",
            "_view_name": "ButtonView",
            "button_style": "",
            "description": "Login",
            "disabled": false,
            "icon": "",
            "layout": "IPY_MODEL_0ad55fa37e8f4858b041779702d6e217",
            "style": "IPY_MODEL_bca1f66867f4451c9343a0cffbc7b066",
            "tooltip": ""
          }
        },
        "a1e55be8a77b4a63b0c5976bce6f9f59": {
          "model_module": "@jupyter-widgets/controls",
          "model_name": "HTMLModel",
          "model_module_version": "1.5.0",
          "state": {
            "_dom_classes": [],
            "_model_module": "@jupyter-widgets/controls",
            "_model_module_version": "1.5.0",
            "_model_name": "HTMLModel",
            "_view_count": null,
            "_view_module": "@jupyter-widgets/controls",
            "_view_module_version": "1.5.0",
            "_view_name": "HTMLView",
            "description": "",
            "description_tooltip": null,
            "layout": "IPY_MODEL_6553df2f08be4932b07f10f58678597a",
            "placeholder": "​",
            "style": "IPY_MODEL_753ff0bdacf5413ea7d6cc70362f97c0",
            "value": "\n<b>Pro Tip:</b> If you don't already have one, you can create a dedicated\n'notebooks' token with 'write' access, that you can then easily reuse for all\nnotebooks. </center>"
          }
        },
        "cb74b1a8f9c1419883976dccd0d5e5ef": {
          "model_module": "@jupyter-widgets/base",
          "model_name": "LayoutModel",
          "model_module_version": "1.2.0",
          "state": {
            "_model_module": "@jupyter-widgets/base",
            "_model_module_version": "1.2.0",
            "_model_name": "LayoutModel",
            "_view_count": null,
            "_view_module": "@jupyter-widgets/base",
            "_view_module_version": "1.2.0",
            "_view_name": "LayoutView",
            "align_content": null,
            "align_items": "center",
            "align_self": null,
            "border": null,
            "bottom": null,
            "display": "flex",
            "flex": null,
            "flex_flow": "column",
            "grid_area": null,
            "grid_auto_columns": null,
            "grid_auto_flow": null,
            "grid_auto_rows": null,
            "grid_column": null,
            "grid_gap": null,
            "grid_row": null,
            "grid_template_areas": null,
            "grid_template_columns": null,
            "grid_template_rows": null,
            "height": null,
            "justify_content": null,
            "justify_items": null,
            "left": null,
            "margin": null,
            "max_height": null,
            "max_width": null,
            "min_height": null,
            "min_width": null,
            "object_fit": null,
            "object_position": null,
            "order": null,
            "overflow": null,
            "overflow_x": null,
            "overflow_y": null,
            "padding": null,
            "right": null,
            "top": null,
            "visibility": null,
            "width": "50%"
          }
        },
        "ee9e0f6b4acd4f22a7e6db21b65a6083": {
          "model_module": "@jupyter-widgets/base",
          "model_name": "LayoutModel",
          "model_module_version": "1.2.0",
          "state": {
            "_model_module": "@jupyter-widgets/base",
            "_model_module_version": "1.2.0",
            "_model_name": "LayoutModel",
            "_view_count": null,
            "_view_module": "@jupyter-widgets/base",
            "_view_module_version": "1.2.0",
            "_view_name": "LayoutView",
            "align_content": null,
            "align_items": null,
            "align_self": null,
            "border": null,
            "bottom": null,
            "display": null,
            "flex": null,
            "flex_flow": null,
            "grid_area": null,
            "grid_auto_columns": null,
            "grid_auto_flow": null,
            "grid_auto_rows": null,
            "grid_column": null,
            "grid_gap": null,
            "grid_row": null,
            "grid_template_areas": null,
            "grid_template_columns": null,
            "grid_template_rows": null,
            "height": null,
            "justify_content": null,
            "justify_items": null,
            "left": null,
            "margin": null,
            "max_height": null,
            "max_width": null,
            "min_height": null,
            "min_width": null,
            "object_fit": null,
            "object_position": null,
            "order": null,
            "overflow": null,
            "overflow_x": null,
            "overflow_y": null,
            "padding": null,
            "right": null,
            "top": null,
            "visibility": null,
            "width": null
          }
        },
        "7eb5a977e27947c482ec5501ff38f2bd": {
          "model_module": "@jupyter-widgets/controls",
          "model_name": "DescriptionStyleModel",
          "model_module_version": "1.5.0",
          "state": {
            "_model_module": "@jupyter-widgets/controls",
            "_model_module_version": "1.5.0",
            "_model_name": "DescriptionStyleModel",
            "_view_count": null,
            "_view_module": "@jupyter-widgets/base",
            "_view_module_version": "1.2.0",
            "_view_name": "StyleView",
            "description_width": ""
          }
        },
        "631f1728d89a42d28c9fff557ca749a4": {
          "model_module": "@jupyter-widgets/base",
          "model_name": "LayoutModel",
          "model_module_version": "1.2.0",
          "state": {
            "_model_module": "@jupyter-widgets/base",
            "_model_module_version": "1.2.0",
            "_model_name": "LayoutModel",
            "_view_count": null,
            "_view_module": "@jupyter-widgets/base",
            "_view_module_version": "1.2.0",
            "_view_name": "LayoutView",
            "align_content": null,
            "align_items": null,
            "align_self": null,
            "border": null,
            "bottom": null,
            "display": null,
            "flex": null,
            "flex_flow": null,
            "grid_area": null,
            "grid_auto_columns": null,
            "grid_auto_flow": null,
            "grid_auto_rows": null,
            "grid_column": null,
            "grid_gap": null,
            "grid_row": null,
            "grid_template_areas": null,
            "grid_template_columns": null,
            "grid_template_rows": null,
            "height": null,
            "justify_content": null,
            "justify_items": null,
            "left": null,
            "margin": null,
            "max_height": null,
            "max_width": null,
            "min_height": null,
            "min_width": null,
            "object_fit": null,
            "object_position": null,
            "order": null,
            "overflow": null,
            "overflow_x": null,
            "overflow_y": null,
            "padding": null,
            "right": null,
            "top": null,
            "visibility": null,
            "width": null
          }
        },
        "24b1ba23dca645c9b3377139966fc089": {
          "model_module": "@jupyter-widgets/controls",
          "model_name": "DescriptionStyleModel",
          "model_module_version": "1.5.0",
          "state": {
            "_model_module": "@jupyter-widgets/controls",
            "_model_module_version": "1.5.0",
            "_model_name": "DescriptionStyleModel",
            "_view_count": null,
            "_view_module": "@jupyter-widgets/base",
            "_view_module_version": "1.2.0",
            "_view_name": "StyleView",
            "description_width": ""
          }
        },
        "f6acde65b6e741ae9939ef68fc004d21": {
          "model_module": "@jupyter-widgets/base",
          "model_name": "LayoutModel",
          "model_module_version": "1.2.0",
          "state": {
            "_model_module": "@jupyter-widgets/base",
            "_model_module_version": "1.2.0",
            "_model_name": "LayoutModel",
            "_view_count": null,
            "_view_module": "@jupyter-widgets/base",
            "_view_module_version": "1.2.0",
            "_view_name": "LayoutView",
            "align_content": null,
            "align_items": null,
            "align_self": null,
            "border": null,
            "bottom": null,
            "display": null,
            "flex": null,
            "flex_flow": null,
            "grid_area": null,
            "grid_auto_columns": null,
            "grid_auto_flow": null,
            "grid_auto_rows": null,
            "grid_column": null,
            "grid_gap": null,
            "grid_row": null,
            "grid_template_areas": null,
            "grid_template_columns": null,
            "grid_template_rows": null,
            "height": null,
            "justify_content": null,
            "justify_items": null,
            "left": null,
            "margin": null,
            "max_height": null,
            "max_width": null,
            "min_height": null,
            "min_width": null,
            "object_fit": null,
            "object_position": null,
            "order": null,
            "overflow": null,
            "overflow_x": null,
            "overflow_y": null,
            "padding": null,
            "right": null,
            "top": null,
            "visibility": null,
            "width": null
          }
        },
        "e1bda9b16a944dce80d9e925898b0703": {
          "model_module": "@jupyter-widgets/controls",
          "model_name": "DescriptionStyleModel",
          "model_module_version": "1.5.0",
          "state": {
            "_model_module": "@jupyter-widgets/controls",
            "_model_module_version": "1.5.0",
            "_model_name": "DescriptionStyleModel",
            "_view_count": null,
            "_view_module": "@jupyter-widgets/base",
            "_view_module_version": "1.2.0",
            "_view_name": "StyleView",
            "description_width": ""
          }
        },
        "0ad55fa37e8f4858b041779702d6e217": {
          "model_module": "@jupyter-widgets/base",
          "model_name": "LayoutModel",
          "model_module_version": "1.2.0",
          "state": {
            "_model_module": "@jupyter-widgets/base",
            "_model_module_version": "1.2.0",
            "_model_name": "LayoutModel",
            "_view_count": null,
            "_view_module": "@jupyter-widgets/base",
            "_view_module_version": "1.2.0",
            "_view_name": "LayoutView",
            "align_content": null,
            "align_items": null,
            "align_self": null,
            "border": null,
            "bottom": null,
            "display": null,
            "flex": null,
            "flex_flow": null,
            "grid_area": null,
            "grid_auto_columns": null,
            "grid_auto_flow": null,
            "grid_auto_rows": null,
            "grid_column": null,
            "grid_gap": null,
            "grid_row": null,
            "grid_template_areas": null,
            "grid_template_columns": null,
            "grid_template_rows": null,
            "height": null,
            "justify_content": null,
            "justify_items": null,
            "left": null,
            "margin": null,
            "max_height": null,
            "max_width": null,
            "min_height": null,
            "min_width": null,
            "object_fit": null,
            "object_position": null,
            "order": null,
            "overflow": null,
            "overflow_x": null,
            "overflow_y": null,
            "padding": null,
            "right": null,
            "top": null,
            "visibility": null,
            "width": null
          }
        },
        "bca1f66867f4451c9343a0cffbc7b066": {
          "model_module": "@jupyter-widgets/controls",
          "model_name": "ButtonStyleModel",
          "model_module_version": "1.5.0",
          "state": {
            "_model_module": "@jupyter-widgets/controls",
            "_model_module_version": "1.5.0",
            "_model_name": "ButtonStyleModel",
            "_view_count": null,
            "_view_module": "@jupyter-widgets/base",
            "_view_module_version": "1.2.0",
            "_view_name": "StyleView",
            "button_color": null,
            "font_weight": ""
          }
        },
        "6553df2f08be4932b07f10f58678597a": {
          "model_module": "@jupyter-widgets/base",
          "model_name": "LayoutModel",
          "model_module_version": "1.2.0",
          "state": {
            "_model_module": "@jupyter-widgets/base",
            "_model_module_version": "1.2.0",
            "_model_name": "LayoutModel",
            "_view_count": null,
            "_view_module": "@jupyter-widgets/base",
            "_view_module_version": "1.2.0",
            "_view_name": "LayoutView",
            "align_content": null,
            "align_items": null,
            "align_self": null,
            "border": null,
            "bottom": null,
            "display": null,
            "flex": null,
            "flex_flow": null,
            "grid_area": null,
            "grid_auto_columns": null,
            "grid_auto_flow": null,
            "grid_auto_rows": null,
            "grid_column": null,
            "grid_gap": null,
            "grid_row": null,
            "grid_template_areas": null,
            "grid_template_columns": null,
            "grid_template_rows": null,
            "height": null,
            "justify_content": null,
            "justify_items": null,
            "left": null,
            "margin": null,
            "max_height": null,
            "max_width": null,
            "min_height": null,
            "min_width": null,
            "object_fit": null,
            "object_position": null,
            "order": null,
            "overflow": null,
            "overflow_x": null,
            "overflow_y": null,
            "padding": null,
            "right": null,
            "top": null,
            "visibility": null,
            "width": null
          }
        },
        "753ff0bdacf5413ea7d6cc70362f97c0": {
          "model_module": "@jupyter-widgets/controls",
          "model_name": "DescriptionStyleModel",
          "model_module_version": "1.5.0",
          "state": {
            "_model_module": "@jupyter-widgets/controls",
            "_model_module_version": "1.5.0",
            "_model_name": "DescriptionStyleModel",
            "_view_count": null,
            "_view_module": "@jupyter-widgets/base",
            "_view_module_version": "1.2.0",
            "_view_name": "StyleView",
            "description_width": ""
          }
        },
        "2585781299104448bbb0c9bd07086f1b": {
          "model_module": "@jupyter-widgets/controls",
          "model_name": "LabelModel",
          "model_module_version": "1.5.0",
          "state": {
            "_dom_classes": [],
            "_model_module": "@jupyter-widgets/controls",
            "_model_module_version": "1.5.0",
            "_model_name": "LabelModel",
            "_view_count": null,
            "_view_module": "@jupyter-widgets/controls",
            "_view_module_version": "1.5.0",
            "_view_name": "LabelView",
            "description": "",
            "description_tooltip": null,
            "layout": "IPY_MODEL_2fc5c298a36343f2ab9df9bba2768f18",
            "placeholder": "​",
            "style": "IPY_MODEL_8d89a5ffafd14dff98d169d8173d5401",
            "value": "Connecting..."
          }
        },
        "2fc5c298a36343f2ab9df9bba2768f18": {
          "model_module": "@jupyter-widgets/base",
          "model_name": "LayoutModel",
          "model_module_version": "1.2.0",
          "state": {
            "_model_module": "@jupyter-widgets/base",
            "_model_module_version": "1.2.0",
            "_model_name": "LayoutModel",
            "_view_count": null,
            "_view_module": "@jupyter-widgets/base",
            "_view_module_version": "1.2.0",
            "_view_name": "LayoutView",
            "align_content": null,
            "align_items": null,
            "align_self": null,
            "border": null,
            "bottom": null,
            "display": null,
            "flex": null,
            "flex_flow": null,
            "grid_area": null,
            "grid_auto_columns": null,
            "grid_auto_flow": null,
            "grid_auto_rows": null,
            "grid_column": null,
            "grid_gap": null,
            "grid_row": null,
            "grid_template_areas": null,
            "grid_template_columns": null,
            "grid_template_rows": null,
            "height": null,
            "justify_content": null,
            "justify_items": null,
            "left": null,
            "margin": null,
            "max_height": null,
            "max_width": null,
            "min_height": null,
            "min_width": null,
            "object_fit": null,
            "object_position": null,
            "order": null,
            "overflow": null,
            "overflow_x": null,
            "overflow_y": null,
            "padding": null,
            "right": null,
            "top": null,
            "visibility": null,
            "width": null
          }
        },
        "8d89a5ffafd14dff98d169d8173d5401": {
          "model_module": "@jupyter-widgets/controls",
          "model_name": "DescriptionStyleModel",
          "model_module_version": "1.5.0",
          "state": {
            "_model_module": "@jupyter-widgets/controls",
            "_model_module_version": "1.5.0",
            "_model_name": "DescriptionStyleModel",
            "_view_count": null,
            "_view_module": "@jupyter-widgets/base",
            "_view_module_version": "1.2.0",
            "_view_name": "StyleView",
            "description_width": ""
          }
        },
        "51cd20b7f755427db3b6659197217893": {
          "model_module": "@jupyter-widgets/controls",
          "model_name": "LabelModel",
          "model_module_version": "1.5.0",
          "state": {
            "_dom_classes": [],
            "_model_module": "@jupyter-widgets/controls",
            "_model_module_version": "1.5.0",
            "_model_name": "LabelModel",
            "_view_count": null,
            "_view_module": "@jupyter-widgets/controls",
            "_view_module_version": "1.5.0",
            "_view_name": "LabelView",
            "description": "",
            "description_tooltip": null,
            "layout": "IPY_MODEL_f0ba9e2999044fde9ae0e44c199a1b4b",
            "placeholder": "​",
            "style": "IPY_MODEL_71cef638392a4b2cb24736645bf9b076",
            "value": "Token is valid (permission: write)."
          }
        },
        "fa5dd75adfc449c894a1e622e1d2a457": {
          "model_module": "@jupyter-widgets/controls",
          "model_name": "LabelModel",
          "model_module_version": "1.5.0",
          "state": {
            "_dom_classes": [],
            "_model_module": "@jupyter-widgets/controls",
            "_model_module_version": "1.5.0",
            "_model_name": "LabelModel",
            "_view_count": null,
            "_view_module": "@jupyter-widgets/controls",
            "_view_module_version": "1.5.0",
            "_view_name": "LabelView",
            "description": "",
            "description_tooltip": null,
            "layout": "IPY_MODEL_553c36e627134c9c97d99e1fbf1dedc3",
            "placeholder": "​",
            "style": "IPY_MODEL_2b426a716ee040c0969b1aa9f6596197",
            "value": "Your token has been saved in your configured git credential helpers (store)."
          }
        },
        "d16cfeecda2e4d39a288654be7d293b8": {
          "model_module": "@jupyter-widgets/controls",
          "model_name": "LabelModel",
          "model_module_version": "1.5.0",
          "state": {
            "_dom_classes": [],
            "_model_module": "@jupyter-widgets/controls",
            "_model_module_version": "1.5.0",
            "_model_name": "LabelModel",
            "_view_count": null,
            "_view_module": "@jupyter-widgets/controls",
            "_view_module_version": "1.5.0",
            "_view_name": "LabelView",
            "description": "",
            "description_tooltip": null,
            "layout": "IPY_MODEL_2f96b892e4bc48e1b41c3f202ef697ae",
            "placeholder": "​",
            "style": "IPY_MODEL_fa5a8069b2df4b6eb0ab4cafb09404b3",
            "value": "Your token has been saved to /root/.cache/huggingface/token"
          }
        },
        "9a9682be6fde4621bc28b34238de9598": {
          "model_module": "@jupyter-widgets/controls",
          "model_name": "LabelModel",
          "model_module_version": "1.5.0",
          "state": {
            "_dom_classes": [],
            "_model_module": "@jupyter-widgets/controls",
            "_model_module_version": "1.5.0",
            "_model_name": "LabelModel",
            "_view_count": null,
            "_view_module": "@jupyter-widgets/controls",
            "_view_module_version": "1.5.0",
            "_view_name": "LabelView",
            "description": "",
            "description_tooltip": null,
            "layout": "IPY_MODEL_53fbea154faf467795d9d1e33de3e49a",
            "placeholder": "​",
            "style": "IPY_MODEL_51772bf1754d4b728ad8a500abaf76b0",
            "value": "Login successful"
          }
        },
        "f0ba9e2999044fde9ae0e44c199a1b4b": {
          "model_module": "@jupyter-widgets/base",
          "model_name": "LayoutModel",
          "model_module_version": "1.2.0",
          "state": {
            "_model_module": "@jupyter-widgets/base",
            "_model_module_version": "1.2.0",
            "_model_name": "LayoutModel",
            "_view_count": null,
            "_view_module": "@jupyter-widgets/base",
            "_view_module_version": "1.2.0",
            "_view_name": "LayoutView",
            "align_content": null,
            "align_items": null,
            "align_self": null,
            "border": null,
            "bottom": null,
            "display": null,
            "flex": null,
            "flex_flow": null,
            "grid_area": null,
            "grid_auto_columns": null,
            "grid_auto_flow": null,
            "grid_auto_rows": null,
            "grid_column": null,
            "grid_gap": null,
            "grid_row": null,
            "grid_template_areas": null,
            "grid_template_columns": null,
            "grid_template_rows": null,
            "height": null,
            "justify_content": null,
            "justify_items": null,
            "left": null,
            "margin": null,
            "max_height": null,
            "max_width": null,
            "min_height": null,
            "min_width": null,
            "object_fit": null,
            "object_position": null,
            "order": null,
            "overflow": null,
            "overflow_x": null,
            "overflow_y": null,
            "padding": null,
            "right": null,
            "top": null,
            "visibility": null,
            "width": null
          }
        },
        "71cef638392a4b2cb24736645bf9b076": {
          "model_module": "@jupyter-widgets/controls",
          "model_name": "DescriptionStyleModel",
          "model_module_version": "1.5.0",
          "state": {
            "_model_module": "@jupyter-widgets/controls",
            "_model_module_version": "1.5.0",
            "_model_name": "DescriptionStyleModel",
            "_view_count": null,
            "_view_module": "@jupyter-widgets/base",
            "_view_module_version": "1.2.0",
            "_view_name": "StyleView",
            "description_width": ""
          }
        },
        "553c36e627134c9c97d99e1fbf1dedc3": {
          "model_module": "@jupyter-widgets/base",
          "model_name": "LayoutModel",
          "model_module_version": "1.2.0",
          "state": {
            "_model_module": "@jupyter-widgets/base",
            "_model_module_version": "1.2.0",
            "_model_name": "LayoutModel",
            "_view_count": null,
            "_view_module": "@jupyter-widgets/base",
            "_view_module_version": "1.2.0",
            "_view_name": "LayoutView",
            "align_content": null,
            "align_items": null,
            "align_self": null,
            "border": null,
            "bottom": null,
            "display": null,
            "flex": null,
            "flex_flow": null,
            "grid_area": null,
            "grid_auto_columns": null,
            "grid_auto_flow": null,
            "grid_auto_rows": null,
            "grid_column": null,
            "grid_gap": null,
            "grid_row": null,
            "grid_template_areas": null,
            "grid_template_columns": null,
            "grid_template_rows": null,
            "height": null,
            "justify_content": null,
            "justify_items": null,
            "left": null,
            "margin": null,
            "max_height": null,
            "max_width": null,
            "min_height": null,
            "min_width": null,
            "object_fit": null,
            "object_position": null,
            "order": null,
            "overflow": null,
            "overflow_x": null,
            "overflow_y": null,
            "padding": null,
            "right": null,
            "top": null,
            "visibility": null,
            "width": null
          }
        },
        "2b426a716ee040c0969b1aa9f6596197": {
          "model_module": "@jupyter-widgets/controls",
          "model_name": "DescriptionStyleModel",
          "model_module_version": "1.5.0",
          "state": {
            "_model_module": "@jupyter-widgets/controls",
            "_model_module_version": "1.5.0",
            "_model_name": "DescriptionStyleModel",
            "_view_count": null,
            "_view_module": "@jupyter-widgets/base",
            "_view_module_version": "1.2.0",
            "_view_name": "StyleView",
            "description_width": ""
          }
        },
        "2f96b892e4bc48e1b41c3f202ef697ae": {
          "model_module": "@jupyter-widgets/base",
          "model_name": "LayoutModel",
          "model_module_version": "1.2.0",
          "state": {
            "_model_module": "@jupyter-widgets/base",
            "_model_module_version": "1.2.0",
            "_model_name": "LayoutModel",
            "_view_count": null,
            "_view_module": "@jupyter-widgets/base",
            "_view_module_version": "1.2.0",
            "_view_name": "LayoutView",
            "align_content": null,
            "align_items": null,
            "align_self": null,
            "border": null,
            "bottom": null,
            "display": null,
            "flex": null,
            "flex_flow": null,
            "grid_area": null,
            "grid_auto_columns": null,
            "grid_auto_flow": null,
            "grid_auto_rows": null,
            "grid_column": null,
            "grid_gap": null,
            "grid_row": null,
            "grid_template_areas": null,
            "grid_template_columns": null,
            "grid_template_rows": null,
            "height": null,
            "justify_content": null,
            "justify_items": null,
            "left": null,
            "margin": null,
            "max_height": null,
            "max_width": null,
            "min_height": null,
            "min_width": null,
            "object_fit": null,
            "object_position": null,
            "order": null,
            "overflow": null,
            "overflow_x": null,
            "overflow_y": null,
            "padding": null,
            "right": null,
            "top": null,
            "visibility": null,
            "width": null
          }
        },
        "fa5a8069b2df4b6eb0ab4cafb09404b3": {
          "model_module": "@jupyter-widgets/controls",
          "model_name": "DescriptionStyleModel",
          "model_module_version": "1.5.0",
          "state": {
            "_model_module": "@jupyter-widgets/controls",
            "_model_module_version": "1.5.0",
            "_model_name": "DescriptionStyleModel",
            "_view_count": null,
            "_view_module": "@jupyter-widgets/base",
            "_view_module_version": "1.2.0",
            "_view_name": "StyleView",
            "description_width": ""
          }
        },
        "53fbea154faf467795d9d1e33de3e49a": {
          "model_module": "@jupyter-widgets/base",
          "model_name": "LayoutModel",
          "model_module_version": "1.2.0",
          "state": {
            "_model_module": "@jupyter-widgets/base",
            "_model_module_version": "1.2.0",
            "_model_name": "LayoutModel",
            "_view_count": null,
            "_view_module": "@jupyter-widgets/base",
            "_view_module_version": "1.2.0",
            "_view_name": "LayoutView",
            "align_content": null,
            "align_items": null,
            "align_self": null,
            "border": null,
            "bottom": null,
            "display": null,
            "flex": null,
            "flex_flow": null,
            "grid_area": null,
            "grid_auto_columns": null,
            "grid_auto_flow": null,
            "grid_auto_rows": null,
            "grid_column": null,
            "grid_gap": null,
            "grid_row": null,
            "grid_template_areas": null,
            "grid_template_columns": null,
            "grid_template_rows": null,
            "height": null,
            "justify_content": null,
            "justify_items": null,
            "left": null,
            "margin": null,
            "max_height": null,
            "max_width": null,
            "min_height": null,
            "min_width": null,
            "object_fit": null,
            "object_position": null,
            "order": null,
            "overflow": null,
            "overflow_x": null,
            "overflow_y": null,
            "padding": null,
            "right": null,
            "top": null,
            "visibility": null,
            "width": null
          }
        },
        "51772bf1754d4b728ad8a500abaf76b0": {
          "model_module": "@jupyter-widgets/controls",
          "model_name": "DescriptionStyleModel",
          "model_module_version": "1.5.0",
          "state": {
            "_model_module": "@jupyter-widgets/controls",
            "_model_module_version": "1.5.0",
            "_model_name": "DescriptionStyleModel",
            "_view_count": null,
            "_view_module": "@jupyter-widgets/base",
            "_view_module_version": "1.2.0",
            "_view_name": "StyleView",
            "description_width": ""
          }
        }
      }
    }
  },
  "nbformat": 4,
  "nbformat_minor": 0
}