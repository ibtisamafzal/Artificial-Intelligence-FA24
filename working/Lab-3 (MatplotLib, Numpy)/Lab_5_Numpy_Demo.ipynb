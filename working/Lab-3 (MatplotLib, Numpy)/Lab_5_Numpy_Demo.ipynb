{
  "nbformat": 4,
  "nbformat_minor": 0,
  "metadata": {
    "colab": {
      "provenance": [],
      "gpuType": "T4"
    },
    "kernelspec": {
      "name": "python3",
      "display_name": "Python 3"
    },
    "language_info": {
      "name": "python"
    },
    "accelerator": "GPU"
  },
  "cells": [
    {
      "cell_type": "code",
      "execution_count": null,
      "metadata": {
        "id": "WaLvlw-Niv8w"
      },
      "outputs": [],
      "source": [
        "import numpy as np"
      ]
    },
    {
      "cell_type": "markdown",
      "source": [
        "**The array gives result without commas, whereas List give results with commas.**"
      ],
      "metadata": {
        "id": "EcJiBQpkkSMj"
      }
    },
    {
      "cell_type": "code",
      "source": [
        "x= np.array([1,2,3,4])\n",
        "print(x)\n"
      ],
      "metadata": {
        "colab": {
          "base_uri": "https://localhost:8080/"
        },
        "id": "rrp40KuriygH",
        "outputId": "21c87a3f-e230-4a40-cbc7-0e5f81e28005"
      },
      "execution_count": null,
      "outputs": [
        {
          "output_type": "stream",
          "name": "stdout",
          "text": [
            "[1 2 3 4]\n"
          ]
        }
      ]
    },
    {
      "cell_type": "code",
      "source": [
        "myList= [1,2,3,4]\n",
        "print(myList)\n"
      ],
      "metadata": {
        "colab": {
          "base_uri": "https://localhost:8080/"
        },
        "id": "f4oxU2E4jH5h",
        "outputId": "a5721819-31d6-4b2c-a6c3-9b937a8dc3d7"
      },
      "execution_count": null,
      "outputs": [
        {
          "output_type": "stream",
          "name": "stdout",
          "text": [
            "[1, 2, 3, 4]\n"
          ]
        }
      ]
    },
    {
      "cell_type": "code",
      "source": [
        "print(type(x))\n",
        "print(type(myList))"
      ],
      "metadata": {
        "colab": {
          "base_uri": "https://localhost:8080/"
        },
        "id": "eERTalNNjUgM",
        "outputId": "49e9b7a1-20c7-4675-f072-fbf56db1391a"
      },
      "execution_count": null,
      "outputs": [
        {
          "output_type": "stream",
          "name": "stdout",
          "text": [
            "<class 'numpy.ndarray'>\n",
            "<class 'list'>\n"
          ]
        }
      ]
    },
    {
      "cell_type": "markdown",
      "source": [
        "**Use %timeit to find the execution time for a statement**"
      ],
      "metadata": {
        "id": "oMJwm5KOj5ht"
      }
    },
    {
      "cell_type": "code",
      "source": [
        "%timeit [j**4 for j in range(1,9)]"
      ],
      "metadata": {
        "colab": {
          "base_uri": "https://localhost:8080/"
        },
        "id": "A0oqqCwej2D3",
        "outputId": "7d67dded-44ea-412f-bf7c-9a8dc9e44353"
      },
      "execution_count": null,
      "outputs": [
        {
          "output_type": "stream",
          "name": "stdout",
          "text": [
            "2.77 µs ± 354 ns per loop (mean ± std. dev. of 7 runs, 100000 loops each)\n"
          ]
        }
      ]
    },
    {
      "cell_type": "code",
      "source": [
        "%timeit np.arange(1,9)**4"
      ],
      "metadata": {
        "colab": {
          "base_uri": "https://localhost:8080/"
        },
        "id": "a63DWnv4kFaz",
        "outputId": "c04862ed-56fc-4c15-d91c-9f8d9f507a26"
      },
      "execution_count": null,
      "outputs": [
        {
          "output_type": "stream",
          "name": "stdout",
          "text": [
            "4.66 µs ± 243 ns per loop (mean ± std. dev. of 7 runs, 100000 loops each)\n"
          ]
        }
      ]
    },
    {
      "cell_type": "markdown",
      "source": [
        "**The append function is used to add value, In this case it moves to the next position in list after taking an input.**"
      ],
      "metadata": {
        "id": "5S--Iofkk4bE"
      }
    },
    {
      "cell_type": "code",
      "source": [
        "listValues=[]\n",
        "for i in range(1,5):\n",
        "  getInputValue= int(input(\"Enter the value: \"))\n",
        "  listValues.append(getInputValue)\n",
        "print(listValues)"
      ],
      "metadata": {
        "colab": {
          "base_uri": "https://localhost:8080/"
        },
        "id": "tqiJpml1kLIZ",
        "outputId": "78d7067e-e563-4ad5-fab0-bf194ff97ad5"
      },
      "execution_count": null,
      "outputs": [
        {
          "output_type": "stream",
          "name": "stdout",
          "text": [
            "Enter the value: 323\n",
            "Enter the value: 32\n",
            "Enter the value: 3223\n",
            "Enter the value: 3232\n",
            "[323, 32, 3223, 3232]\n"
          ]
        }
      ]
    },
    {
      "cell_type": "markdown",
      "source": [
        "**\"{:.2f}\".format means result upto two decimal figues**"
      ],
      "metadata": {
        "id": "MhgLzjXJnnmx"
      }
    },
    {
      "cell_type": "code",
      "source": [
        "temperatures= np.array([10,20,30,40])\n",
        "average_temp= np.mean(temperatures)\n",
        "print(\"Temperature over the week:\" +str(temperatures))\n",
        "print(\"Average temperature over the week: \" + \"{:.2f}\".format(average_temp))"
      ],
      "metadata": {
        "colab": {
          "base_uri": "https://localhost:8080/"
        },
        "id": "Wusk7agPmxfm",
        "outputId": "de5ecc55-78fe-4f3c-ea33-af89c339b61e"
      },
      "execution_count": null,
      "outputs": [
        {
          "output_type": "stream",
          "name": "stdout",
          "text": [
            "Temperature over the week:[10 20 30 40]\n",
            "Average temperature over the week: 25.00\n"
          ]
        }
      ]
    },
    {
      "cell_type": "markdown",
      "source": [
        "**\"inventory[:,1]\" selects all the values of first column only**"
      ],
      "metadata": {
        "id": "XwkW4AXdo44v"
      }
    },
    {
      "cell_type": "code",
      "source": [],
      "metadata": {
        "id": "xThv0Y2KnNvs"
      },
      "execution_count": null,
      "outputs": []
    }
  ]
}